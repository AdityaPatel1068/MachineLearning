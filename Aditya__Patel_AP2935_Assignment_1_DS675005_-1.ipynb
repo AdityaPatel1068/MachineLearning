{
  "cells": [
    {
      "cell_type": "markdown",
      "metadata": {
        "id": "Tajfsk_7JY3E"
      },
      "source": [
        "**Note to grader:**  Each question consists of parts, e.g. Q1(i), Q1(ii), etc. Each part must be graded  on a 0-4 scale, following the standard NJIT convention (A:4, B+: 3.5, B:3, C+: 2.5, C: 2, D:1, F:0).\n",
        "The total score must be re-scaled to 100 -- that should apply to all future assignments so that Canvas assigns the same weight on all assignments.\n",
        "\n"
      ]
    },
    {
      "cell_type": "markdown",
      "metadata": {
        "id": "e8SKy70z2osa"
      },
      "source": [
        "----\n",
        "\n",
        "<i>General instructions for this and future notebooks:</i>\n",
        "1. To run a cell and move to the next cell: Hold down <strong>Shift</strong> and press <strong>Enter</strong>\n",
        "2. To run a cell and stay in the same cell: Hold down <b>Ctrl</b> and press <b>Enter</b>\n",
        "3. Use the arrow up and down to navigate or do it manually as you prefer\n",
        "4. Escape from typing a cell: Hit <b>Esc</b>\n",
        "\n",
        "---------\n",
        "\n",
        "<b>Note: </b>\n",
        "\n",
        "> You must run/evaluate all cells. <b>Order of cell execution is important.</b>\n",
        "\n",
        "\n",
        "\n",
        "> You need to work direclty out of a copy of the assignment notebook given to you in the exact orer.\n"
      ]
    },
    {
      "cell_type": "code",
      "execution_count": null,
      "metadata": {
        "id": "I-sfBXk9AkfN"
      },
      "outputs": [],
      "source": [
        "# Grader's area\n",
        "\n",
        "import numpy as np\n",
        "\n",
        "# This assignment contains 5 exercises each with at most 3 parts.\n",
        "# We initialize a 6x4 array M, containing zeros.\n",
        "# The grade for question i, part j, will be recorded in M[i,j].\n",
        "# Then the total grade can be easily computed in the last grader's area.\n",
        "\n",
        "maxScore = 0\n",
        "M = np.zeros((5,4))"
      ]
    },
    {
      "cell_type": "markdown",
      "metadata": {
        "id": "ly4laI7pfGJO"
      },
      "source": [
        "# **Assignment 1**\n",
        "The first assignment walks you through some elements of Python/Numpy. It is meant mostly to familiarize you with Jypyter notebooks. It includes cells for demonstration, leading to clearly-marked cells for questions.\n",
        "\n"
      ]
    },
    {
      "cell_type": "markdown",
      "metadata": {
        "id": "8owP8xk_yi6h"
      },
      "source": [
        "-----------------------"
      ]
    },
    {
      "cell_type": "markdown",
      "metadata": {
        "id": "r_tl0TKffGJP"
      },
      "source": [
        "### **Part 1: NumPy walk-through**\n",
        "\n",
        "Let's look at matrix D and how it is presented in Numpy\n",
        "\\begin{equation*}\n",
        "D =\n",
        "\\begin{pmatrix}\n",
        "1 & 2 & 5 & 12 \\\\\n",
        "5 & 9 & 7 & 4\\\\\n",
        "7 & 8 & 1 & 9\n",
        "\\end{pmatrix}\n",
        "\\end{equation*}"
      ]
    },
    {
      "cell_type": "code",
      "execution_count": null,
      "metadata": {
        "colab": {
          "base_uri": "https://localhost:8080/"
        },
        "id": "ik4Gngp2fGJQ",
        "outputId": "fb6aefae-0f32-4486-ca83-b26855e3cbad"
      },
      "outputs": [
        {
          "output_type": "stream",
          "name": "stdout",
          "text": [
            "This is how matrix D will be presented in Numpy:\n",
            "\n",
            " [[ 1.  2.  5. 12.]\n",
            " [ 5.  9.  7.  4.]\n",
            " [ 7.  8.  1.  9.]]\n",
            "\n",
            "**********************************************************************\n",
            "We just create a <class 'numpy.ndarray'>\n",
            "The shape of numpy array D is (3, 4) with 12 elements\n",
            "The dimension of D is 2\n",
            "**********************************************************************\n",
            "The data types of elements of D are float32,\n",
            "      which consumes 48 bytes\n",
            "**********************************************************************\n"
          ]
        }
      ],
      "source": [
        "import numpy as np\n",
        "\n",
        "#  The notation np.X invokes a function X from module np\n",
        "#    where np is an alias for numpy as note in line-1 above.\n",
        "\n",
        "D = np.array([[1,2,5,12],[5,9,7,4],[7,8,1,9]], dtype = np.float32)\n",
        "print('This is how matrix D will be presented in Numpy:\\n\\n {}\\n'.format(D))\n",
        "\n",
        "print('*'*70) # seperator\n",
        "\n",
        "# Example of describing D\n",
        "print('We just create a {}'.format(type(D)))\n",
        "print('The shape of numpy array D is {} with {} elements'.format(D.shape, D.size))\n",
        "print('The dimension of D is {}'.format(D.ndim))\n",
        "\n",
        "# Multi-line print out\n",
        "print('*'*70) # seperator\n",
        "\n",
        "print('''The data types of elements of D are {},\n",
        "      which consumes {} bytes'''.format(D.dtype, D.nbytes))\n",
        "\n",
        "print('*'*70) # seperator\n"
      ]
    },
    {
      "cell_type": "code",
      "execution_count": null,
      "metadata": {
        "id": "oqhQyAZTfGJV"
      },
      "outputs": [],
      "source": [
        "# create a copy of D with integer type\n",
        "D_copy = np.array(D, dtype=np.int32)"
      ]
    },
    {
      "cell_type": "markdown",
      "metadata": {
        "id": "2XxgGLoIfGJY"
      },
      "source": [
        "#### 1. NumPy array operations"
      ]
    },
    {
      "cell_type": "code",
      "execution_count": null,
      "metadata": {
        "colab": {
          "base_uri": "https://localhost:8080/"
        },
        "id": "scImnsyJfGJY",
        "outputId": "f2387598-1f80-4c62-99a0-650a0280dc7c"
      },
      "outputs": [
        {
          "output_type": "stream",
          "name": "stdout",
          "text": [
            "The length of my_list is 4\n",
            "The appended list becomes [10.1, 2.3, -30, 10, 25]\n",
            "Data type of my_array is <class 'numpy.ndarray'>\n",
            "my_array is [ 10.1   2.3 -30.   10.   25. ]\n"
          ]
        }
      ],
      "source": [
        "# Define a list for representing the deposit/withdrawl transactions from Mon to Thu\n",
        "trans_list = [10.1, 2.3, -30, 10]\n",
        "\n",
        "# print the length of the trans_list\n",
        "print('The length of my_list is %d'%len(trans_list))\n",
        "\n",
        "# Append the transaction amount $25 to the end of trans_list\n",
        "trans_list.append(25)\n",
        "print('The appended list becomes {}'.format(trans_list))\n",
        "\n",
        "# Convert trans_list to a numpy array\n",
        "trans_array = np.array(trans_list)\n",
        "print('Data type of my_array is {}'.format(type(trans_array)))\n",
        "print('my_array is {}'.format(trans_array))\n"
      ]
    },
    {
      "cell_type": "code",
      "execution_count": null,
      "metadata": {
        "colab": {
          "base_uri": "https://localhost:8080/"
        },
        "id": "mHPmhzdOfGJb",
        "outputId": "1e370ced-ca67-4dfb-fbe3-3be13f6435f6"
      },
      "outputs": [
        {
          "output_type": "execute_result",
          "data": {
            "text/plain": [
              "array([ 14.1,   6.3, -26. ,  14. ,  29. ])"
            ]
          },
          "metadata": {},
          "execution_count": 148
        }
      ],
      "source": [
        "# adding $4 to each deposit/withdrawl transaction\n",
        "trans_array + 4"
      ]
    },
    {
      "cell_type": "code",
      "execution_count": null,
      "metadata": {
        "colab": {
          "base_uri": "https://localhost:8080/"
        },
        "id": "RQAbwx5gfGJe",
        "outputId": "1bcd2eee-4c77-4bf1-9a90-51127b18cbf8"
      },
      "outputs": [
        {
          "output_type": "execute_result",
          "data": {
            "text/plain": [
              "array([  9.7,   1.9, -30.4,   9.6,  24.6])"
            ]
          },
          "metadata": {},
          "execution_count": 149
        }
      ],
      "source": [
        "# subtract 0.4 from each transaction\n",
        "trans_array - 0.4"
      ]
    },
    {
      "cell_type": "code",
      "execution_count": null,
      "metadata": {
        "colab": {
          "base_uri": "https://localhost:8080/"
        },
        "id": "UaMikHWpfGJg",
        "outputId": "99baaec0-3d9f-4942-a8ff-091438474027"
      },
      "outputs": [
        {
          "output_type": "execute_result",
          "data": {
            "text/plain": [
              "array([ 20.2,   4.6, -60. ,  20. ,  50. ])"
            ]
          },
          "metadata": {},
          "execution_count": 150
        }
      ],
      "source": [
        "# double it up\n",
        "trans_array * 2"
      ]
    },
    {
      "cell_type": "code",
      "execution_count": null,
      "metadata": {
        "colab": {
          "base_uri": "https://localhost:8080/"
        },
        "id": "Viiu3ePUfGJi",
        "outputId": "236722c6-b81b-4d55-de2e-6c41c16b4cd8"
      },
      "outputs": [
        {
          "output_type": "execute_result",
          "data": {
            "text/plain": [
              "array([ 2.02,  0.46, -6.  ,  2.  ,  5.  ])"
            ]
          },
          "metadata": {},
          "execution_count": 151
        }
      ],
      "source": [
        "# divide the amounts by 5\n",
        "trans_array / 5"
      ]
    },
    {
      "cell_type": "markdown",
      "metadata": {
        "id": "oGZMC38NfGJl"
      },
      "source": [
        "Note: You can't do the above operation with list. You will have to iterate the list's elements. For example"
      ]
    },
    {
      "cell_type": "code",
      "execution_count": null,
      "metadata": {
        "colab": {
          "base_uri": "https://localhost:8080/"
        },
        "id": "u6EM8P58fGJl",
        "outputId": "c08fe4ad-cb0b-46fa-d780-02ecb33e14a4"
      },
      "outputs": [
        {
          "output_type": "execute_result",
          "data": {
            "text/plain": [
              "[14.1, 6.3, -26, 14, 29]"
            ]
          },
          "metadata": {},
          "execution_count": 152
        }
      ],
      "source": [
        "# to add $4 to each transaction with trans_list, we must use list comprehension.\n",
        "[x + 4 for x in trans_list]"
      ]
    },
    {
      "cell_type": "code",
      "execution_count": null,
      "metadata": {
        "colab": {
          "base_uri": "https://localhost:8080/"
        },
        "id": "eYGHGQRhfGJo",
        "outputId": "d46eda22-34eb-457d-c4e1-e992e68af27b"
      },
      "outputs": [
        {
          "output_type": "execute_result",
          "data": {
            "text/plain": [
              "array([1., 1., 1., 1., 1., 1., 1., 1.])"
            ]
          },
          "metadata": {},
          "execution_count": 153
        }
      ],
      "source": [
        "# create a one-dimensional array containing 8 ones\n",
        "np.ones(8)"
      ]
    },
    {
      "cell_type": "code",
      "execution_count": null,
      "metadata": {
        "colab": {
          "base_uri": "https://localhost:8080/"
        },
        "id": "zU9DzeFtfGJr",
        "outputId": "df9b580a-2ebf-4d3a-e68e-168aba9f065a"
      },
      "outputs": [
        {
          "output_type": "execute_result",
          "data": {
            "text/plain": [
              "array([[1., 0., 0., 0., 0.],\n",
              "       [0., 1., 0., 0., 0.],\n",
              "       [0., 0., 1., 0., 0.],\n",
              "       [0., 0., 0., 1., 0.],\n",
              "       [0., 0., 0., 0., 1.]])"
            ]
          },
          "metadata": {},
          "execution_count": 154
        }
      ],
      "source": [
        "# create an identity matrix of size 5*5\n",
        "np.identity(5)"
      ]
    },
    {
      "cell_type": "code",
      "execution_count": null,
      "metadata": {
        "colab": {
          "base_uri": "https://localhost:8080/"
        },
        "id": "bzyiFkjpfGJt",
        "outputId": "194b59c3-aa4d-4ba8-dd81-988d8d56d67f"
      },
      "outputs": [
        {
          "output_type": "execute_result",
          "data": {
            "text/plain": [
              "array([ 3,  6,  9, 12, 15, 18])"
            ]
          },
          "metadata": {},
          "execution_count": 155
        }
      ],
      "source": [
        "# create an array size 1 x 6 including only odd number starting from 3\n",
        "x = np.arange(3,20,3)\n",
        "x"
      ]
    },
    {
      "cell_type": "code",
      "execution_count": null,
      "metadata": {
        "colab": {
          "base_uri": "https://localhost:8080/"
        },
        "id": "Fi7yU_v3fGJw",
        "outputId": "e7f06a8b-0735-4645-aa67-5e63bdcd8ded"
      },
      "outputs": [
        {
          "output_type": "execute_result",
          "data": {
            "text/plain": [
              "array([[ 3,  6,  9],\n",
              "       [12, 15, 18]])"
            ]
          },
          "metadata": {},
          "execution_count": 156
        }
      ],
      "source": [
        "# reshape x to size 2 x 3 we get the following matrix\n",
        "\n",
        "# Variables in Python (an numpy) are objects.\n",
        "# Each object contains data (like x does), but it is also associated\n",
        "# with methods, i.e. python functions that can apply to it.\n",
        "# When we apply such an operation, we use the notation x.fname, like\n",
        "# below.\n",
        "\n",
        "x = x.reshape(2,3)\n",
        "x"
      ]
    },
    {
      "cell_type": "code",
      "execution_count": null,
      "metadata": {
        "id": "lhwnA49lfGJy"
      },
      "outputs": [],
      "source": [
        "# transpose x\n",
        "y = x.T"
      ]
    },
    {
      "cell_type": "code",
      "execution_count": null,
      "metadata": {
        "colab": {
          "base_uri": "https://localhost:8080/"
        },
        "id": "-34yj_jDfGJ0",
        "outputId": "5fa5e24e-15e7-4a37-9a0f-edc570db36d5"
      },
      "outputs": [
        {
          "output_type": "execute_result",
          "data": {
            "text/plain": [
              "False"
            ]
          },
          "metadata": {},
          "execution_count": 158
        }
      ],
      "source": [
        "# compare two arrays\n",
        "np.array_equal(x,y)"
      ]
    },
    {
      "cell_type": "code",
      "execution_count": null,
      "metadata": {
        "colab": {
          "base_uri": "https://localhost:8080/"
        },
        "id": "Akbw9C1PfGJ2",
        "outputId": "5753351e-6eef-4fa3-a9d0-cbebfad44454"
      },
      "outputs": [
        {
          "output_type": "execute_result",
          "data": {
            "text/plain": [
              "array([[ True,  True,  True],\n",
              "       [ True,  True,  True]])"
            ]
          },
          "metadata": {},
          "execution_count": 159
        }
      ],
      "source": [
        "x == y.T"
      ]
    },
    {
      "cell_type": "code",
      "execution_count": null,
      "metadata": {
        "colab": {
          "base_uri": "https://localhost:8080/"
        },
        "id": "PjbS0Y8zfGJ5",
        "outputId": "443f20f8-1469-4ca9-bbea-ca3d98dfd610"
      },
      "outputs": [
        {
          "output_type": "execute_result",
          "data": {
            "text/plain": [
              "True"
            ]
          },
          "metadata": {},
          "execution_count": 160
        }
      ],
      "source": [
        "np.array_equal(x,y.T)"
      ]
    },
    {
      "cell_type": "code",
      "execution_count": null,
      "metadata": {
        "colab": {
          "base_uri": "https://localhost:8080/"
        },
        "id": "vC29JsRAfGJ7",
        "outputId": "9bd32589-e33f-4efa-aa10-e19e49736784"
      },
      "outputs": [
        {
          "output_type": "execute_result",
          "data": {
            "text/plain": [
              "array([[False, False, False],\n",
              "       [False, False, False]])"
            ]
          },
          "metadata": {},
          "execution_count": 161
        }
      ],
      "source": [
        "x < y.T"
      ]
    },
    {
      "cell_type": "code",
      "execution_count": null,
      "metadata": {
        "colab": {
          "base_uri": "https://localhost:8080/"
        },
        "id": "9CumfUaRfGJ9",
        "outputId": "5c0640ce-8bc1-41c9-fd27-a5dfd01caec9"
      },
      "outputs": [
        {
          "output_type": "execute_result",
          "data": {
            "text/plain": [
              "array([[1., 1., 1.],\n",
              "       [1., 1., 1.],\n",
              "       [1., 1., 1.]])"
            ]
          },
          "metadata": {},
          "execution_count": 162
        }
      ],
      "source": [
        "c = np.ones((3,3))\n",
        "c"
      ]
    },
    {
      "cell_type": "code",
      "execution_count": null,
      "metadata": {
        "colab": {
          "base_uri": "https://localhost:8080/"
        },
        "id": "8sXMycSpfGJ_",
        "outputId": "229d602f-95e8-457e-9636-57d6c8e81ca0"
      },
      "outputs": [
        {
          "output_type": "execute_result",
          "data": {
            "text/plain": [
              "array([[3., 3., 3.],\n",
              "       [3., 3., 3.],\n",
              "       [3., 3., 3.]])"
            ]
          },
          "metadata": {},
          "execution_count": 163
        }
      ],
      "source": [
        "# dot product of two matrices\n",
        "np.dot(c,c)\n",
        "\n",
        "# or\n",
        "np.matmul(c,c)"
      ]
    },
    {
      "cell_type": "code",
      "execution_count": null,
      "metadata": {
        "colab": {
          "base_uri": "https://localhost:8080/"
        },
        "id": "phRTWOZwfGKB",
        "outputId": "41d9ab73-6baa-4d43-f08a-11a10002890e"
      },
      "outputs": [
        {
          "output_type": "execute_result",
          "data": {
            "text/plain": [
              "array([[ 0,  1,  2,  3,  4],\n",
              "       [ 5,  6,  7,  8,  9],\n",
              "       [ 0,  1,  2,  3,  4],\n",
              "       [ 5,  6,  7,  8,  9],\n",
              "       [10, 11, 12, 13, 14]])"
            ]
          },
          "metadata": {},
          "execution_count": 164
        }
      ],
      "source": [
        "# stacking/merging two multidimensional arrays\n",
        "x = np.arange(10).reshape(2,5)\n",
        "y = np.arange(15).reshape(3,5)\n",
        "z = np.vstack((x,y))\n",
        "z\n"
      ]
    },
    {
      "cell_type": "code",
      "execution_count": null,
      "metadata": {
        "colab": {
          "base_uri": "https://localhost:8080/"
        },
        "id": "pwX_qhk4fGKD",
        "outputId": "dc43f728-74d8-4464-b012-a79efb42fa63"
      },
      "outputs": [
        {
          "output_type": "execute_result",
          "data": {
            "text/plain": [
              "array([[ 0,  1,  0,  1,  2],\n",
              "       [ 2,  3,  3,  4,  5],\n",
              "       [ 4,  5,  6,  7,  8],\n",
              "       [ 6,  7,  9, 10, 11],\n",
              "       [ 8,  9, 12, 13, 14]])"
            ]
          },
          "metadata": {},
          "execution_count": 165
        }
      ],
      "source": [
        "x = np.arange(10).reshape(5,2)\n",
        "y = np.arange(15).reshape(5,3)\n",
        "z = np.hstack((x,y))\n",
        "z"
      ]
    },
    {
      "cell_type": "code",
      "execution_count": null,
      "metadata": {
        "colab": {
          "base_uri": "https://localhost:8080/"
        },
        "id": "YCiyIn78fGKF",
        "outputId": "cd6b3690-aea0-4d98-f71d-6ec47fffaf3a"
      },
      "outputs": [
        {
          "output_type": "execute_result",
          "data": {
            "text/plain": [
              "DescribeResult(nobs=5, minmax=(array([0, 1, 0, 1, 2]), array([ 8,  9, 12, 13, 14])), mean=array([4., 5., 6., 7., 8.]), variance=array([10. , 10. , 22.5, 22.5, 22.5]), skewness=array([0., 0., 0., 0., 0.]), kurtosis=array([-1.3, -1.3, -1.3, -1.3, -1.3]))"
            ]
          },
          "metadata": {},
          "execution_count": 166
        }
      ],
      "source": [
        "# checking statistics for xy\n",
        "from scipy import stats\n",
        "stats.describe(z)"
      ]
    },
    {
      "cell_type": "code",
      "execution_count": null,
      "metadata": {
        "colab": {
          "base_uri": "https://localhost:8080/"
        },
        "id": "jhXIOt8dfGKH",
        "outputId": "bb9856cb-de96-4046-889e-89311ded632b"
      },
      "outputs": [
        {
          "output_type": "stream",
          "name": "stdout",
          "text": [
            "x:\n",
            " [[0.19659432 0.75366594 0.00223104]\n",
            " [0.40792319 0.95228373 0.75028847]\n",
            " [0.75036339 0.56577776 0.96800349]\n",
            " [0.458033   0.0040714  0.65092454]\n",
            " [0.79753196 0.29902889 0.87742108]\n",
            " [0.69310004 0.16980408 0.08726585]\n",
            " [0.91005163 0.0037253  0.08848723]\n",
            " [0.84383586 0.50746761 0.04333391]\n",
            " [0.36596688 0.08273364 0.65473995]\n",
            " [0.96095309 0.87669927 0.21945717]\n",
            " [0.97939634 0.70636459 0.07810348]\n",
            " [0.50789362 0.44104264 0.45840437]\n",
            " [0.88085353 0.87029769 0.33737574]\n",
            " [0.34894026 0.96146006 0.56216728]\n",
            " [0.20678264 0.70553902 0.84089721]\n",
            " [0.43323552 0.00130341 0.29136513]\n",
            " [0.80169448 0.039626   0.53960214]\n",
            " [0.82250212 0.75689572 0.89239805]\n",
            " [0.06663149 0.95733654 0.58504447]\n",
            " [0.42771536 0.66102867 0.06080794]\n",
            " [0.54711068 0.76243191 0.46947063]\n",
            " [0.70571532 0.13561182 0.57753795]\n",
            " [0.7163177  0.97510242 0.04425824]\n",
            " [0.29948232 0.84139837 0.26062236]\n",
            " [0.03392294 0.19695271 0.23331636]\n",
            " [0.32868504 0.66011396 0.54713174]\n",
            " [0.74300614 0.06030776 0.81747139]\n",
            " [0.03317827 0.6121796  0.14673052]\n",
            " [0.61022933 0.54735294 0.1124362 ]\n",
            " [0.74337038 0.89746191 0.05851629]]\n",
            "\n",
            ",n:\n",
            " 30\n",
            "\n",
            ", min_max:\n",
            " (array([0.03317827, 0.00130341, 0.00223104]), array([0.97939634, 0.97510242, 0.96800349]))\n",
            "\n",
            ", mean:\n",
            " [0.55403389 0.53350218 0.40852701]\n",
            "\n",
            "\n",
            ", var:\n",
            " [0.0800939  0.11810046 0.09434377]\n",
            "\n",
            ", skew:\n",
            " [-0.32028714 -0.35425386  0.26232539]\n",
            "\n",
            ", kurt:\n",
            " [-1.01098502 -1.35101551 -1.2827738 ]\n",
            "\n",
            "\n"
          ]
        }
      ],
      "source": [
        "# generate 30 random records, each has 3 features represented by some random number\n",
        "x = np.random.rand(30,3)\n",
        "\n",
        "\n",
        "# check statistics by feature for these records\n",
        "n, min_max, mean, var, skew, kurt = stats.describe(x)\n",
        "\n",
        "# observe the gather statistics\n",
        "print('''x:\\n {}\\n\\n,n:\\n {}\\n\\n, min_max:\\n {}\\n\\n, mean:\\n {}\\n\\n\n",
        ", var:\\n {}\\n\\n, skew:\\n {}\\n\\n, kurt:\\n {}\\n\\n'''.format(x, n, min_max, mean, var, skew, kurt))"
      ]
    },
    {
      "cell_type": "markdown",
      "metadata": {
        "id": "6icgEByffGKK"
      },
      "source": [
        "#### 2. Slice and dice matrix\n",
        "\n",
        "Take out 2 elements in the 1st row, 2nd column, and 3rd row, 3rd column of matrix D from above\n",
        "\n",
        "\\begin{equation*}\n",
        "D =\n",
        "\\begin{pmatrix}\n",
        "1 & 2 & 5 & 12 \\\\\n",
        "5 & 9 & 7 & 4\\\\\n",
        "7 & 8 & 1 & 9\n",
        "\\end{pmatrix}\n",
        "\\end{equation*}"
      ]
    },
    {
      "cell_type": "code",
      "execution_count": null,
      "metadata": {
        "colab": {
          "base_uri": "https://localhost:8080/"
        },
        "id": "7R8ypS2zfGKN",
        "outputId": "32e4f976-0b2b-4110-a60e-2a23831ca43f"
      },
      "outputs": [
        {
          "output_type": "execute_result",
          "data": {
            "text/plain": [
              "array([2., 1.], dtype=float32)"
            ]
          },
          "metadata": {},
          "execution_count": 168
        }
      ],
      "source": [
        "# numpy is indexed from 0. Slice by row and then by column\n",
        "D[[0,2],[1,2]]\n"
      ]
    },
    {
      "cell_type": "markdown",
      "metadata": {
        "id": "BfRzbPUXfGKQ"
      },
      "source": [
        "#### Resize and reshape matrix\n",
        "Matrix will be truncated or element values will be repeated if the reshape makes the matrix to be a bigger matrix."
      ]
    },
    {
      "cell_type": "code",
      "execution_count": null,
      "metadata": {
        "colab": {
          "base_uri": "https://localhost:8080/"
        },
        "id": "_YNyARm1fGKQ",
        "outputId": "4400d4f7-d0f2-48fc-9ce7-3d1fba545f9f"
      },
      "outputs": [
        {
          "output_type": "stream",
          "name": "stdout",
          "text": [
            "[[1 2 3]\n",
            " [4 5 6]\n",
            " [7 8 9]]\n",
            "\n",
            "resize smaller\n",
            " [[1 2]\n",
            " [3 4]]\n",
            "\n",
            "resize bigger\n",
            " [[1 2 3 4]\n",
            " [5 6 7 8]\n",
            " [9 1 2 3]\n",
            " [4 5 6 7]]\n"
          ]
        }
      ],
      "source": [
        "x = (np.arange(9)+1).reshape(3,3)\n",
        "print(x)\n",
        "print('\\nresize smaller\\n {}'.format(np.resize(x,(2,2))))\n",
        "print('\\nresize bigger\\n {}'.format(np.resize(x,(4,4))))"
      ]
    },
    {
      "cell_type": "markdown",
      "metadata": {
        "id": "bdtCXeGxfGKS"
      },
      "source": [
        "#### Multiplying two matrices\n",
        "An 1-dimensional array is treated as a vector"
      ]
    },
    {
      "cell_type": "code",
      "execution_count": null,
      "metadata": {
        "colab": {
          "base_uri": "https://localhost:8080/"
        },
        "id": "YOFS8ioofGKT",
        "outputId": "87b5c9aa-59ad-48e8-c6d6-4d4f2a1cef28"
      },
      "outputs": [
        {
          "output_type": "execute_result",
          "data": {
            "text/plain": [
              "array([0, 1, 2, 3])"
            ]
          },
          "metadata": {},
          "execution_count": 170
        }
      ],
      "source": [
        "# a vector/array y\n",
        "y = np.arange(4)\n",
        "y\n"
      ]
    },
    {
      "cell_type": "code",
      "execution_count": null,
      "metadata": {
        "colab": {
          "base_uri": "https://localhost:8080/"
        },
        "id": "mEWuYjlxfGKV",
        "outputId": "919471e2-851f-478c-f870-6f7514e92aae"
      },
      "outputs": [
        {
          "output_type": "execute_result",
          "data": {
            "text/plain": [
              "array([[3., 3., 3., 3.],\n",
              "       [3., 3., 3., 3.],\n",
              "       [3., 3., 3., 3.],\n",
              "       [3., 3., 3., 3.]])"
            ]
          },
          "metadata": {},
          "execution_count": 171
        }
      ],
      "source": [
        "# a matrix of ones\n",
        "x = np.ones(16).reshape(4,4) + 2\n",
        "x"
      ]
    },
    {
      "cell_type": "code",
      "execution_count": null,
      "metadata": {
        "colab": {
          "base_uri": "https://localhost:8080/"
        },
        "id": "d0707PxPfGKX",
        "outputId": "a31b3ad8-d520-4f5d-9ad6-3ddefece0ca8"
      },
      "outputs": [
        {
          "output_type": "execute_result",
          "data": {
            "text/plain": [
              "array([[0., 3., 6., 9.],\n",
              "       [0., 3., 6., 9.],\n",
              "       [0., 3., 6., 9.],\n",
              "       [0., 3., 6., 9.]])"
            ]
          },
          "metadata": {},
          "execution_count": 172
        }
      ],
      "source": [
        "x*y"
      ]
    },
    {
      "cell_type": "code",
      "execution_count": null,
      "metadata": {
        "colab": {
          "base_uri": "https://localhost:8080/"
        },
        "id": "EJPYn6rEfGKZ",
        "outputId": "c8ef3cbf-ea09-4629-c71a-382415896f48"
      },
      "outputs": [
        {
          "output_type": "execute_result",
          "data": {
            "text/plain": [
              "array([[0., 3., 6., 9.],\n",
              "       [0., 3., 6., 9.],\n",
              "       [0., 3., 6., 9.],\n",
              "       [0., 3., 6., 9.]])"
            ]
          },
          "metadata": {},
          "execution_count": 173
        }
      ],
      "source": [
        "x*y.T   # interpreted as x*(y.T)"
      ]
    },
    {
      "cell_type": "code",
      "execution_count": null,
      "metadata": {
        "colab": {
          "base_uri": "https://localhost:8080/"
        },
        "id": "Tsl6MbI2fGKc",
        "outputId": "f95e75e7-3b19-4cb8-919d-a178677bf287"
      },
      "outputs": [
        {
          "output_type": "execute_result",
          "data": {
            "text/plain": [
              "array([[0., 3., 6., 9.],\n",
              "       [0., 3., 6., 9.],\n",
              "       [0., 3., 6., 9.],\n",
              "       [0., 3., 6., 9.]])"
            ]
          },
          "metadata": {},
          "execution_count": 174
        }
      ],
      "source": [
        "y*x"
      ]
    },
    {
      "cell_type": "code",
      "execution_count": null,
      "metadata": {
        "colab": {
          "base_uri": "https://localhost:8080/"
        },
        "id": "fNTRR8DwfGKe",
        "outputId": "b6a434fb-6d22-4c2c-8757-4fa07f966dc0"
      },
      "outputs": [
        {
          "output_type": "execute_result",
          "data": {
            "text/plain": [
              "array([[0., 3., 6., 9.],\n",
              "       [0., 3., 6., 9.],\n",
              "       [0., 3., 6., 9.],\n",
              "       [0., 3., 6., 9.]])"
            ]
          },
          "metadata": {},
          "execution_count": 175
        }
      ],
      "source": [
        "y.T*x"
      ]
    },
    {
      "cell_type": "code",
      "execution_count": null,
      "metadata": {
        "colab": {
          "base_uri": "https://localhost:8080/"
        },
        "id": "vi5kt5OufGKg",
        "outputId": "69fc478e-1375-4c89-b1c3-e01fbdc77271"
      },
      "outputs": [
        {
          "output_type": "stream",
          "name": "stdout",
          "text": [
            "x:\n",
            "[[0 1]\n",
            " [2 3]]\n",
            "\n",
            "y1:\n",
            "[0 1]\n",
            "\n",
            "y2:\n",
            "[[0 1]]\n",
            "\n"
          ]
        }
      ],
      "source": [
        "x = np.arange(4).reshape(2,2)\n",
        "y1 = np.arange(2)\n",
        "y2 = np.arange(2).reshape(1,2) # y2 is the same as y1 in numpy.\n",
        "print('x:\\n{}\\n'.format(x))\n",
        "print('y1:\\n{}\\n'.format(y1))\n",
        "print('y2:\\n{}\\n'.format(y2))"
      ]
    },
    {
      "cell_type": "code",
      "execution_count": null,
      "metadata": {
        "colab": {
          "base_uri": "https://localhost:8080/"
        },
        "id": "-1k0CFOIfGKi",
        "outputId": "3c2a4165-6d8d-48a8-dcc5-dcc08bd3b830"
      },
      "outputs": [
        {
          "output_type": "execute_result",
          "data": {
            "text/plain": [
              "array([[0, 1],\n",
              "       [0, 3]])"
            ]
          },
          "metadata": {},
          "execution_count": 177
        }
      ],
      "source": [
        "x*y1"
      ]
    },
    {
      "cell_type": "code",
      "execution_count": null,
      "metadata": {
        "colab": {
          "base_uri": "https://localhost:8080/"
        },
        "id": "EW90NQ6nfGKk",
        "outputId": "ef29de90-14e0-4809-836d-7b45ce7908b0"
      },
      "outputs": [
        {
          "output_type": "execute_result",
          "data": {
            "text/plain": [
              "array([[0, 1],\n",
              "       [0, 3]])"
            ]
          },
          "metadata": {},
          "execution_count": 178
        }
      ],
      "source": [
        "x*y2"
      ]
    },
    {
      "cell_type": "code",
      "execution_count": null,
      "metadata": {
        "colab": {
          "base_uri": "https://localhost:8080/"
        },
        "id": "ban5G53YfGKm",
        "outputId": "08fcb26b-71af-4a66-8726-53f8874b8299"
      },
      "outputs": [
        {
          "output_type": "stream",
          "name": "stdout",
          "text": [
            "[[0 1 2 3 4]\n",
            " [5 6 7 8 9]]\n",
            "\n",
            "[[ 0  1  2]\n",
            " [ 3  4  5]\n",
            " [ 6  7  8]\n",
            " [ 9 10 11]\n",
            " [12 13 14]]\n"
          ]
        }
      ],
      "source": [
        "# generate two matrices\n",
        "a = np.arange(10).reshape(2,5)\n",
        "b = np.arange(15).reshape(5,3)\n",
        "print(a)\n",
        "print()\n",
        "print(b)"
      ]
    },
    {
      "cell_type": "code",
      "execution_count": null,
      "metadata": {
        "colab": {
          "base_uri": "https://localhost:8080/"
        },
        "id": "iXVjcn_ffGKp",
        "outputId": "38f50c21-2684-454c-cb40-3c67b83f3b94"
      },
      "outputs": [
        {
          "output_type": "execute_result",
          "data": {
            "text/plain": [
              "True"
            ]
          },
          "metadata": {},
          "execution_count": 180
        }
      ],
      "source": [
        "# check if operation $dot$ is equal to operation $matmul$\n",
        "np.array_equal(np.dot(a,b),np.matmul(a,b))"
      ]
    },
    {
      "cell_type": "code",
      "execution_count": null,
      "metadata": {
        "colab": {
          "base_uri": "https://localhost:8080/"
        },
        "id": "M31vWN03fGKs",
        "outputId": "b8ae0a8a-5619-4b79-d60d-5f249ab9bcbb"
      },
      "outputs": [
        {
          "output_type": "execute_result",
          "data": {
            "text/plain": [
              "array([[ 90, 100, 110],\n",
              "       [240, 275, 310]])"
            ]
          },
          "metadata": {},
          "execution_count": 181
        }
      ],
      "source": [
        "# multiple a by b with matmul\n",
        "np.matmul(a,b)"
      ]
    },
    {
      "cell_type": "code",
      "execution_count": null,
      "metadata": {
        "colab": {
          "base_uri": "https://localhost:8080/"
        },
        "id": "4jhyA0VYfGKv",
        "outputId": "33e066dc-b6eb-4d59-d5a2-0d1800be0bb0"
      },
      "outputs": [
        {
          "output_type": "execute_result",
          "data": {
            "text/plain": [
              "array([[ 90, 100, 110],\n",
              "       [240, 275, 310]])"
            ]
          },
          "metadata": {},
          "execution_count": 182
        }
      ],
      "source": [
        "# multiply a by b with @\n",
        "a@b"
      ]
    },
    {
      "cell_type": "code",
      "execution_count": null,
      "metadata": {
        "colab": {
          "base_uri": "https://localhost:8080/"
        },
        "id": "HbJu-_fLfGK0",
        "outputId": "f2719ba1-53c5-4a84-bf10-1a729ac3e378"
      },
      "outputs": [
        {
          "output_type": "stream",
          "name": "stdout",
          "text": [
            "a: \n",
            " [[0 1 2]\n",
            " [3 4 5]\n",
            " [6 7 8]] \n",
            " \n",
            "  b: \n",
            " [0 1 2]\n"
          ]
        }
      ],
      "source": [
        "a = np.arange(9).reshape(3,3)\n",
        "b = np.arange(3)\n",
        "print('a: \\n {} \\n \\n  b: \\n {}'.format(a,b))"
      ]
    },
    {
      "cell_type": "code",
      "execution_count": null,
      "metadata": {
        "colab": {
          "base_uri": "https://localhost:8080/"
        },
        "id": "2Cxjq5WFfGK4",
        "outputId": "7c2de8a5-b30c-4f27-9021-3ba5d7f20f67"
      },
      "outputs": [
        {
          "output_type": "execute_result",
          "data": {
            "text/plain": [
              "array([ 5, 14, 23])"
            ]
          },
          "metadata": {},
          "execution_count": 184
        }
      ],
      "source": [
        "# inner product of 2 vectors\n",
        "np.inner(a,b)"
      ]
    },
    {
      "cell_type": "code",
      "execution_count": null,
      "metadata": {
        "colab": {
          "base_uri": "https://localhost:8080/"
        },
        "id": "AuSfLhm2fGK8",
        "outputId": "f3cfc7f3-3d66-4972-cdec-2db056562c6a"
      },
      "outputs": [
        {
          "output_type": "execute_result",
          "data": {
            "text/plain": [
              "array([[ 0,  0,  0],\n",
              "       [ 0,  1,  2],\n",
              "       [ 0,  2,  4],\n",
              "       [ 0,  3,  6],\n",
              "       [ 0,  4,  8],\n",
              "       [ 0,  5, 10],\n",
              "       [ 0,  6, 12],\n",
              "       [ 0,  7, 14],\n",
              "       [ 0,  8, 16]])"
            ]
          },
          "metadata": {},
          "execution_count": 185
        }
      ],
      "source": [
        "# outer product of 2 vectors\n",
        "np.outer(a,b)"
      ]
    },
    {
      "cell_type": "markdown",
      "metadata": {
        "id": "bQda4F4EfGK_"
      },
      "source": [
        "#### Solving linear equations\n",
        "An example: Solve three linear equations with 3 unknowns as follows:<br>\n",
        "$x_1 + 2x_2 + 3x_3 = 10$<br>\n",
        "$4x_1 + 4x_2 + 5x_3=4$<br>\n",
        "$3x_1 + 8x_2 + 9x_3 = 3$<br>\n",
        "\n",
        "We have a linear equation to solve as in the form $Ax = B$ where\n",
        "\\begin{equation*}\n",
        "A =\n",
        "\\begin{pmatrix}\n",
        "1 & 2 & 3 \\\\\n",
        "4 & 4 & 5 \\\\\n",
        "3 & 8 & 9\n",
        "\\end{pmatrix}\n",
        ",\n",
        "B =\n",
        "\\begin{pmatrix}\n",
        "10 \\\\\n",
        "4 \\\\\n",
        "3\n",
        "\\end{pmatrix}\n",
        ",\n",
        "x =\n",
        "\\begin{pmatrix}\n",
        "x_1 \\\\\n",
        "x_2 \\\\\n",
        "x_3\n",
        "\\end{pmatrix}\n",
        "\\end{equation*}\n",
        "\n",
        "<br>\n",
        "In simple cases with small matrices, we can do $x = A^{-1}B$"
      ]
    },
    {
      "cell_type": "code",
      "execution_count": null,
      "metadata": {
        "colab": {
          "base_uri": "https://localhost:8080/"
        },
        "id": "PLS1GVLMfGLA",
        "outputId": "35b26433-e065-4d02-c023-5a1f52483cdf"
      },
      "outputs": [
        {
          "output_type": "execute_result",
          "data": {
            "text/plain": [
              "array([[-0.28571429,  0.42857143, -0.14285714],\n",
              "       [-1.5       , -0.        ,  0.5       ],\n",
              "       [ 1.42857143, -0.14285714, -0.28571429]])"
            ]
          },
          "metadata": {},
          "execution_count": 186
        }
      ],
      "source": [
        "A = np.array([[1,2,3],[4,4,5],[3,8,9]])\n",
        "B = np.array([10,4,3])\n",
        "A_inv = np.linalg.inv(A)\n",
        "A_inv"
      ]
    },
    {
      "cell_type": "code",
      "execution_count": null,
      "metadata": {
        "id": "2_Rev7MEfGLC"
      },
      "outputs": [],
      "source": [
        "x = np.dot(A_inv, B)"
      ]
    },
    {
      "cell_type": "code",
      "execution_count": null,
      "metadata": {
        "colab": {
          "base_uri": "https://localhost:8080/"
        },
        "id": "e-oPmxrSfGLF",
        "outputId": "52bce440-2577-45fe-dec1-ea197959a238"
      },
      "outputs": [
        {
          "output_type": "execute_result",
          "data": {
            "text/plain": [
              "True"
            ]
          },
          "metadata": {},
          "execution_count": 188
        }
      ],
      "source": [
        "# check results with allclose() function)\n",
        "np.allclose(np.dot(A,x),B)"
      ]
    },
    {
      "cell_type": "markdown",
      "metadata": {
        "id": "Vbt-t8rpEP7R"
      },
      "source": [
        "-----"
      ]
    },
    {
      "cell_type": "markdown",
      "metadata": {
        "id": "77y-VVzxfGLH"
      },
      "source": [
        "\n",
        "## <font color='#008DFF'> **Question 1**\n",
        "\n",
        "Write code for solving four linear equations with 4 unknowns as follows:<br>\n",
        "$x_1 + 2x_2 + 3x_3 + 9x_4 = 10$<br>\n",
        "$4x_1 + 4x_2 + x_3 + 3x_4=4$<br>\n",
        "$3x_1 + 8x_2 + 9x_3 + x_4= 3$<br>\n",
        "$x_1 + x_2 + 3x_3 = 7$<br><br>\n",
        "\n",
        "Afterwards, check results with allclose( ) function, and print out array $x = [x_1, x_2, x_3, x_4]$ and round each element of the array '$x$' to two decimal places.\n",
        "\n",
        "<b>Expected result</b><br>x = array([ 3.59, -3.75,        2.39,  0.75      ])\n"
      ]
    },
    {
      "cell_type": "code",
      "execution_count": null,
      "metadata": {
        "id": "A0wIhEbW04b7",
        "colab": {
          "base_uri": "https://localhost:8080/"
        },
        "outputId": "d7f23349-cfc7-4e40-bf50-11707b2d1c1d"
      },
      "outputs": [
        {
          "output_type": "stream",
          "name": "stdout",
          "text": [
            "The Solution to the linear equation, x =[ 3.59 -3.75  2.39  0.75]\n"
          ]
        }
      ],
      "source": [
        "#import Library\n",
        "import numpy as np\n",
        "\n",
        "# Define the matrix m & n  based on the equation\n",
        "m = np.array([[1,2,3,9],[4,4,1,3],[3,8,9,1],[1,1,3,0]])\n",
        "n = np.array([10,4,3,7])\n",
        "\n",
        "#Calculate 'm' inverse ineretrpredt as m^(-1)\n",
        "m_inv = np.linalg.inv(m)\n",
        "\n",
        "#Calculate Dot Product of m_inv.n = x\n",
        "x = np.dot( m_inv, n)\n",
        "\n",
        "#Check Results with allclose() function\n",
        "np.allclose(np.dot(m,x),n)\n",
        "\n",
        "# Print rounded off the result to two decimal places\n",
        "x = np.round(x,2)\n",
        "\n",
        "print(f\"The Solution to the linear equation, x ={x}\")\n"
      ]
    },
    {
      "cell_type": "code",
      "execution_count": null,
      "metadata": {
        "id": "77c5jSREdt9K"
      },
      "outputs": [],
      "source": [
        "# Grader's area\n",
        "#\n",
        "# Here we have only part, so this grade is assigned in M[1,1]\n",
        "# assign the grade and then uncomment the following\n",
        "\n",
        "# M[1,1] =\n",
        "\n",
        "maxScore = maxScore + 4;"
      ]
    },
    {
      "cell_type": "markdown",
      "metadata": {
        "id": "DKD1e5IvkXJz"
      },
      "source": [
        "-----------------\n",
        "-----------------\n",
        "-----------------\n",
        "-----------------"
      ]
    },
    {
      "cell_type": "markdown",
      "metadata": {
        "id": "hH8NLj_UfGLK"
      },
      "source": [
        "## **Part 2: Exploring some data**"
      ]
    },
    {
      "cell_type": "markdown",
      "metadata": {
        "id": "Wq8IS0kDeOLz"
      },
      "source": [
        "In this exercising we will be using the 'breast cancer wisconsin' dataset, see more details from https://archive.ics.uci.edu/dataset/17/breast+cancer+wisconsin+diagnostic"
      ]
    },
    {
      "cell_type": "code",
      "execution_count": null,
      "metadata": {
        "colab": {
          "base_uri": "https://localhost:8080/"
        },
        "id": "knlg41kx81E5",
        "outputId": "6f01dc98-1d57-481e-b8ae-70486b394236"
      },
      "outputs": [
        {
          "output_type": "stream",
          "name": "stdout",
          "text": [
            "Data size: \n",
            " (569, 30)\n",
            "Features: \n",
            " ['mean radius' 'mean texture' 'mean perimeter' 'mean area' 'mean smoothness' 'mean compactness' 'mean concavity'\n",
            " 'mean concave points' 'mean symmetry' 'mean fractal dimension' 'radius error' 'texture error' 'perimeter error'\n",
            " 'area error' 'smoothness error' 'compactness error' 'concavity error' 'concave points error' 'symmetry error'\n",
            " 'fractal dimension error' 'worst radius' 'worst texture' 'worst perimeter' 'worst area' 'worst smoothness'\n",
            " 'worst compactness' 'worst concavity' 'worst concave points' 'worst symmetry' 'worst fractal dimension']\n"
          ]
        }
      ],
      "source": [
        "from sklearn.datasets import load_breast_cancer\n",
        "ds = load_breast_cancer()\n",
        "samples, label, feature_names = ds.data, ds.target, ds.feature_names\n",
        "print('Data size: \\n {}'.format(samples.shape))\n",
        "print('Features: \\n {}'.format(feature_names))"
      ]
    },
    {
      "cell_type": "code",
      "execution_count": null,
      "metadata": {
        "colab": {
          "base_uri": "https://localhost:8080/"
        },
        "id": "QW9-EOe68_-k",
        "outputId": "8800d042-19bb-46cf-bc17-5b92f1a968cd"
      },
      "outputs": [
        {
          "output_type": "stream",
          "name": "stdout",
          "text": [
            ".. _breast_cancer_dataset:\n",
            "\n",
            "Breast cancer wisconsin (diagnostic) dataset\n",
            "--------------------------------------------\n",
            "\n",
            "**Data Set Characteristics:**\n",
            "\n",
            "    :Number of Instances: 569\n",
            "\n",
            "    :Number of Attributes: 30 numeric, predictive attributes and the class\n",
            "\n",
            "    :Attribute Information:\n",
            "        - radius (mean of distances from center to points on the perimeter)\n",
            "        - texture (standard deviation of gray-scale values)\n",
            "        - perimeter\n",
            "        - area\n",
            "        - smoothness (local variation in radius lengths)\n",
            "        - compactness (perimeter^2 / area - 1.0)\n",
            "        - concavity (severity of concave portions of the contour)\n",
            "        - concave points (number of concave portions of the contour)\n",
            "        - symmetry\n",
            "        - fractal dimension (\"coastline approximation\" - 1)\n",
            "\n",
            "        The mean, standard error, and \"worst\" or largest (mean of the three\n",
            "        worst/largest values) of these features were computed for each image,\n",
            "        resulting in 30 features.  For instance, field 0 is Mean Radius, field\n",
            "        10 is Radius SE, field 20 is Worst Radius.\n",
            "\n",
            "        - class:\n",
            "                - WDBC-Malignant\n",
            "                - WDBC-Benign\n",
            "\n",
            "    :Summary Statistics:\n",
            "\n",
            "    ===================================== ====== ======\n",
            "                                           Min    Max\n",
            "    ===================================== ====== ======\n",
            "    radius (mean):                        6.981  28.11\n",
            "    texture (mean):                       9.71   39.28\n",
            "    perimeter (mean):                     43.79  188.5\n",
            "    area (mean):                          143.5  2501.0\n",
            "    smoothness (mean):                    0.053  0.163\n",
            "    compactness (mean):                   0.019  0.345\n",
            "    concavity (mean):                     0.0    0.427\n",
            "    concave points (mean):                0.0    0.201\n",
            "    symmetry (mean):                      0.106  0.304\n",
            "    fractal dimension (mean):             0.05   0.097\n",
            "    radius (standard error):              0.112  2.873\n",
            "    texture (standard error):             0.36   4.885\n",
            "    perimeter (standard error):           0.757  21.98\n",
            "    area (standard error):                6.802  542.2\n",
            "    smoothness (standard error):          0.002  0.031\n",
            "    compactness (standard error):         0.002  0.135\n",
            "    concavity (standard error):           0.0    0.396\n",
            "    concave points (standard error):      0.0    0.053\n",
            "    symmetry (standard error):            0.008  0.079\n",
            "    fractal dimension (standard error):   0.001  0.03\n",
            "    radius (worst):                       7.93   36.04\n",
            "    texture (worst):                      12.02  49.54\n",
            "    perimeter (worst):                    50.41  251.2\n",
            "    area (worst):                         185.2  4254.0\n",
            "    smoothness (worst):                   0.071  0.223\n",
            "    compactness (worst):                  0.027  1.058\n",
            "    concavity (worst):                    0.0    1.252\n",
            "    concave points (worst):               0.0    0.291\n",
            "    symmetry (worst):                     0.156  0.664\n",
            "    fractal dimension (worst):            0.055  0.208\n",
            "    ===================================== ====== ======\n",
            "\n",
            "    :Missing Attribute Values: None\n",
            "\n",
            "    :Class Distribution: 212 - Malignant, 357 - Benign\n",
            "\n",
            "    :Creator:  Dr. William H. Wolberg, W. Nick Street, Olvi L. Mangasarian\n",
            "\n",
            "    :Donor: Nick Street\n",
            "\n",
            "    :Date: November, 1995\n",
            "\n",
            "This is a copy of UCI ML Breast Cancer Wisconsin (Diagnostic) datasets.\n",
            "https://goo.gl/U2Uwz2\n",
            "\n",
            "Features are computed from a digitized image of a fine needle\n",
            "aspirate (FNA) of a breast mass.  They describe\n",
            "characteristics of the cell nuclei present in the image.\n",
            "\n",
            "Separating plane described above was obtained using\n",
            "Multisurface Method-Tree (MSM-T) [K. P. Bennett, \"Decision Tree\n",
            "Construction Via Linear Programming.\" Proceedings of the 4th\n",
            "Midwest Artificial Intelligence and Cognitive Science Society,\n",
            "pp. 97-101, 1992], a classification method which uses linear\n",
            "programming to construct a decision tree.  Relevant features\n",
            "were selected using an exhaustive search in the space of 1-4\n",
            "features and 1-3 separating planes.\n",
            "\n",
            "The actual linear program used to obtain the separating plane\n",
            "in the 3-dimensional space is that described in:\n",
            "[K. P. Bennett and O. L. Mangasarian: \"Robust Linear\n",
            "Programming Discrimination of Two Linearly Inseparable Sets\",\n",
            "Optimization Methods and Software 1, 1992, 23-34].\n",
            "\n",
            "This database is also available through the UW CS ftp server:\n",
            "\n",
            "ftp ftp.cs.wisc.edu\n",
            "cd math-prog/cpo-dataset/machine-learn/WDBC/\n",
            "\n",
            ".. topic:: References\n",
            "\n",
            "   - W.N. Street, W.H. Wolberg and O.L. Mangasarian. Nuclear feature extraction \n",
            "     for breast tumor diagnosis. IS&T/SPIE 1993 International Symposium on \n",
            "     Electronic Imaging: Science and Technology, volume 1905, pages 861-870,\n",
            "     San Jose, CA, 1993.\n",
            "   - O.L. Mangasarian, W.N. Street and W.H. Wolberg. Breast cancer diagnosis and \n",
            "     prognosis via linear programming. Operations Research, 43(4), pages 570-577, \n",
            "     July-August 1995.\n",
            "   - W.H. Wolberg, W.N. Street, and O.L. Mangasarian. Machine learning techniques\n",
            "     to diagnose breast cancer from fine-needle aspirates. Cancer Letters 77 (1994) \n",
            "     163-171.\n"
          ]
        }
      ],
      "source": [
        "# Data description\n",
        "print(ds.DESCR)\n"
      ]
    },
    {
      "cell_type": "code",
      "execution_count": null,
      "metadata": {
        "colab": {
          "base_uri": "https://localhost:8080/"
        },
        "id": "rR8jIWSafGLR",
        "outputId": "24f9c6bb-ee39-4a41-88cd-d30bc73b1a50"
      },
      "outputs": [
        {
          "output_type": "execute_result",
          "data": {
            "text/plain": [
              "False"
            ]
          },
          "metadata": {},
          "execution_count": 193
        }
      ],
      "source": [
        "# check to see if there is any null data\n",
        "np.isnan(np.sum(samples))"
      ]
    },
    {
      "cell_type": "code",
      "execution_count": null,
      "metadata": {
        "id": "HoAcjJzPe2r3"
      },
      "outputs": [],
      "source": [
        "# set print options to make things look nicer\n",
        "np.set_printoptions(suppress=True, linewidth=125)"
      ]
    },
    {
      "cell_type": "markdown",
      "source": [],
      "metadata": {
        "id": "MctNRcCQwl8g"
      }
    },
    {
      "cell_type": "code",
      "execution_count": null,
      "metadata": {
        "colab": {
          "base_uri": "https://localhost:8080/",
          "height": 196
        },
        "id": "hwXoQA_rfGLY",
        "outputId": "7406e365-8c0a-4fd4-9201-1986b752e691"
      },
      "outputs": [
        {
          "output_type": "execute_result",
          "data": {
            "text/plain": [
              "             mean radius  mean texture  mean perimeter  mean area  \\\n",
              "0    median         13.4          18.8            86.2      551.1   \n",
              "1  variance         12.4          18.5           589.4   123625.9   \n",
              "\n",
              "   mean smoothness  mean compactness  mean concavity  mean concave points  \\\n",
              "0              0.1               0.1             0.1                  0.0   \n",
              "1              0.0               0.0             0.0                  0.0   \n",
              "\n",
              "   mean symmetry  ...  worst radius  worst texture  worst perimeter  \\\n",
              "0            0.2  ...          15.0           25.4             97.7   \n",
              "1            0.0  ...          23.3           37.7           1127.1   \n",
              "\n",
              "   worst area  worst smoothness  worst compactness  worst concavity  \\\n",
              "0       686.5               0.1                0.2              0.2   \n",
              "1    323597.7               0.0                0.0              0.0   \n",
              "\n",
              "   worst concave points  worst symmetry  worst fractal dimension  \n",
              "0                   0.1             0.3                      0.1  \n",
              "1                   0.0             0.0                      0.0  \n",
              "\n",
              "[2 rows x 31 columns]"
            ],
            "text/html": [
              "\n",
              "  <div id=\"df-307759b2-d88c-475a-b151-7ca20db7dcd8\" class=\"colab-df-container\">\n",
              "    <div>\n",
              "<style scoped>\n",
              "    .dataframe tbody tr th:only-of-type {\n",
              "        vertical-align: middle;\n",
              "    }\n",
              "\n",
              "    .dataframe tbody tr th {\n",
              "        vertical-align: top;\n",
              "    }\n",
              "\n",
              "    .dataframe thead th {\n",
              "        text-align: right;\n",
              "    }\n",
              "</style>\n",
              "<table border=\"1\" class=\"dataframe\">\n",
              "  <thead>\n",
              "    <tr style=\"text-align: right;\">\n",
              "      <th></th>\n",
              "      <th></th>\n",
              "      <th>mean radius</th>\n",
              "      <th>mean texture</th>\n",
              "      <th>mean perimeter</th>\n",
              "      <th>mean area</th>\n",
              "      <th>mean smoothness</th>\n",
              "      <th>mean compactness</th>\n",
              "      <th>mean concavity</th>\n",
              "      <th>mean concave points</th>\n",
              "      <th>mean symmetry</th>\n",
              "      <th>...</th>\n",
              "      <th>worst radius</th>\n",
              "      <th>worst texture</th>\n",
              "      <th>worst perimeter</th>\n",
              "      <th>worst area</th>\n",
              "      <th>worst smoothness</th>\n",
              "      <th>worst compactness</th>\n",
              "      <th>worst concavity</th>\n",
              "      <th>worst concave points</th>\n",
              "      <th>worst symmetry</th>\n",
              "      <th>worst fractal dimension</th>\n",
              "    </tr>\n",
              "  </thead>\n",
              "  <tbody>\n",
              "    <tr>\n",
              "      <th>0</th>\n",
              "      <td>median</td>\n",
              "      <td>13.4</td>\n",
              "      <td>18.8</td>\n",
              "      <td>86.2</td>\n",
              "      <td>551.1</td>\n",
              "      <td>0.1</td>\n",
              "      <td>0.1</td>\n",
              "      <td>0.1</td>\n",
              "      <td>0.0</td>\n",
              "      <td>0.2</td>\n",
              "      <td>...</td>\n",
              "      <td>15.0</td>\n",
              "      <td>25.4</td>\n",
              "      <td>97.7</td>\n",
              "      <td>686.5</td>\n",
              "      <td>0.1</td>\n",
              "      <td>0.2</td>\n",
              "      <td>0.2</td>\n",
              "      <td>0.1</td>\n",
              "      <td>0.3</td>\n",
              "      <td>0.1</td>\n",
              "    </tr>\n",
              "    <tr>\n",
              "      <th>1</th>\n",
              "      <td>variance</td>\n",
              "      <td>12.4</td>\n",
              "      <td>18.5</td>\n",
              "      <td>589.4</td>\n",
              "      <td>123625.9</td>\n",
              "      <td>0.0</td>\n",
              "      <td>0.0</td>\n",
              "      <td>0.0</td>\n",
              "      <td>0.0</td>\n",
              "      <td>0.0</td>\n",
              "      <td>...</td>\n",
              "      <td>23.3</td>\n",
              "      <td>37.7</td>\n",
              "      <td>1127.1</td>\n",
              "      <td>323597.7</td>\n",
              "      <td>0.0</td>\n",
              "      <td>0.0</td>\n",
              "      <td>0.0</td>\n",
              "      <td>0.0</td>\n",
              "      <td>0.0</td>\n",
              "      <td>0.0</td>\n",
              "    </tr>\n",
              "  </tbody>\n",
              "</table>\n",
              "<p>2 rows × 31 columns</p>\n",
              "</div>\n",
              "    <div class=\"colab-df-buttons\">\n",
              "\n",
              "  <div class=\"colab-df-container\">\n",
              "    <button class=\"colab-df-convert\" onclick=\"convertToInteractive('df-307759b2-d88c-475a-b151-7ca20db7dcd8')\"\n",
              "            title=\"Convert this dataframe to an interactive table.\"\n",
              "            style=\"display:none;\">\n",
              "\n",
              "  <svg xmlns=\"http://www.w3.org/2000/svg\" height=\"24px\" viewBox=\"0 -960 960 960\">\n",
              "    <path d=\"M120-120v-720h720v720H120Zm60-500h600v-160H180v160Zm220 220h160v-160H400v160Zm0 220h160v-160H400v160ZM180-400h160v-160H180v160Zm440 0h160v-160H620v160ZM180-180h160v-160H180v160Zm440 0h160v-160H620v160Z\"/>\n",
              "  </svg>\n",
              "    </button>\n",
              "\n",
              "  <style>\n",
              "    .colab-df-container {\n",
              "      display:flex;\n",
              "      gap: 12px;\n",
              "    }\n",
              "\n",
              "    .colab-df-convert {\n",
              "      background-color: #E8F0FE;\n",
              "      border: none;\n",
              "      border-radius: 50%;\n",
              "      cursor: pointer;\n",
              "      display: none;\n",
              "      fill: #1967D2;\n",
              "      height: 32px;\n",
              "      padding: 0 0 0 0;\n",
              "      width: 32px;\n",
              "    }\n",
              "\n",
              "    .colab-df-convert:hover {\n",
              "      background-color: #E2EBFA;\n",
              "      box-shadow: 0px 1px 2px rgba(60, 64, 67, 0.3), 0px 1px 3px 1px rgba(60, 64, 67, 0.15);\n",
              "      fill: #174EA6;\n",
              "    }\n",
              "\n",
              "    .colab-df-buttons div {\n",
              "      margin-bottom: 4px;\n",
              "    }\n",
              "\n",
              "    [theme=dark] .colab-df-convert {\n",
              "      background-color: #3B4455;\n",
              "      fill: #D2E3FC;\n",
              "    }\n",
              "\n",
              "    [theme=dark] .colab-df-convert:hover {\n",
              "      background-color: #434B5C;\n",
              "      box-shadow: 0px 1px 3px 1px rgba(0, 0, 0, 0.15);\n",
              "      filter: drop-shadow(0px 1px 2px rgba(0, 0, 0, 0.3));\n",
              "      fill: #FFFFFF;\n",
              "    }\n",
              "  </style>\n",
              "\n",
              "    <script>\n",
              "      const buttonEl =\n",
              "        document.querySelector('#df-307759b2-d88c-475a-b151-7ca20db7dcd8 button.colab-df-convert');\n",
              "      buttonEl.style.display =\n",
              "        google.colab.kernel.accessAllowed ? 'block' : 'none';\n",
              "\n",
              "      async function convertToInteractive(key) {\n",
              "        const element = document.querySelector('#df-307759b2-d88c-475a-b151-7ca20db7dcd8');\n",
              "        const dataTable =\n",
              "          await google.colab.kernel.invokeFunction('convertToInteractive',\n",
              "                                                    [key], {});\n",
              "        if (!dataTable) return;\n",
              "\n",
              "        const docLinkHtml = 'Like what you see? Visit the ' +\n",
              "          '<a target=\"_blank\" href=https://colab.research.google.com/notebooks/data_table.ipynb>data table notebook</a>'\n",
              "          + ' to learn more about interactive tables.';\n",
              "        element.innerHTML = '';\n",
              "        dataTable['output_type'] = 'display_data';\n",
              "        await google.colab.output.renderOutput(dataTable, element);\n",
              "        const docLink = document.createElement('div');\n",
              "        docLink.innerHTML = docLinkHtml;\n",
              "        element.appendChild(docLink);\n",
              "      }\n",
              "    </script>\n",
              "  </div>\n",
              "\n",
              "\n",
              "<div id=\"df-548b22c2-d95e-4282-ace8-31c801b8c92b\">\n",
              "  <button class=\"colab-df-quickchart\" onclick=\"quickchart('df-548b22c2-d95e-4282-ace8-31c801b8c92b')\"\n",
              "            title=\"Suggest charts.\"\n",
              "            style=\"display:none;\">\n",
              "\n",
              "<svg xmlns=\"http://www.w3.org/2000/svg\" height=\"24px\"viewBox=\"0 0 24 24\"\n",
              "     width=\"24px\">\n",
              "    <g>\n",
              "        <path d=\"M19 3H5c-1.1 0-2 .9-2 2v14c0 1.1.9 2 2 2h14c1.1 0 2-.9 2-2V5c0-1.1-.9-2-2-2zM9 17H7v-7h2v7zm4 0h-2V7h2v10zm4 0h-2v-4h2v4z\"/>\n",
              "    </g>\n",
              "</svg>\n",
              "  </button>\n",
              "\n",
              "<style>\n",
              "  .colab-df-quickchart {\n",
              "      --bg-color: #E8F0FE;\n",
              "      --fill-color: #1967D2;\n",
              "      --hover-bg-color: #E2EBFA;\n",
              "      --hover-fill-color: #174EA6;\n",
              "      --disabled-fill-color: #AAA;\n",
              "      --disabled-bg-color: #DDD;\n",
              "  }\n",
              "\n",
              "  [theme=dark] .colab-df-quickchart {\n",
              "      --bg-color: #3B4455;\n",
              "      --fill-color: #D2E3FC;\n",
              "      --hover-bg-color: #434B5C;\n",
              "      --hover-fill-color: #FFFFFF;\n",
              "      --disabled-bg-color: #3B4455;\n",
              "      --disabled-fill-color: #666;\n",
              "  }\n",
              "\n",
              "  .colab-df-quickchart {\n",
              "    background-color: var(--bg-color);\n",
              "    border: none;\n",
              "    border-radius: 50%;\n",
              "    cursor: pointer;\n",
              "    display: none;\n",
              "    fill: var(--fill-color);\n",
              "    height: 32px;\n",
              "    padding: 0;\n",
              "    width: 32px;\n",
              "  }\n",
              "\n",
              "  .colab-df-quickchart:hover {\n",
              "    background-color: var(--hover-bg-color);\n",
              "    box-shadow: 0 1px 2px rgba(60, 64, 67, 0.3), 0 1px 3px 1px rgba(60, 64, 67, 0.15);\n",
              "    fill: var(--button-hover-fill-color);\n",
              "  }\n",
              "\n",
              "  .colab-df-quickchart-complete:disabled,\n",
              "  .colab-df-quickchart-complete:disabled:hover {\n",
              "    background-color: var(--disabled-bg-color);\n",
              "    fill: var(--disabled-fill-color);\n",
              "    box-shadow: none;\n",
              "  }\n",
              "\n",
              "  .colab-df-spinner {\n",
              "    border: 2px solid var(--fill-color);\n",
              "    border-color: transparent;\n",
              "    border-bottom-color: var(--fill-color);\n",
              "    animation:\n",
              "      spin 1s steps(1) infinite;\n",
              "  }\n",
              "\n",
              "  @keyframes spin {\n",
              "    0% {\n",
              "      border-color: transparent;\n",
              "      border-bottom-color: var(--fill-color);\n",
              "      border-left-color: var(--fill-color);\n",
              "    }\n",
              "    20% {\n",
              "      border-color: transparent;\n",
              "      border-left-color: var(--fill-color);\n",
              "      border-top-color: var(--fill-color);\n",
              "    }\n",
              "    30% {\n",
              "      border-color: transparent;\n",
              "      border-left-color: var(--fill-color);\n",
              "      border-top-color: var(--fill-color);\n",
              "      border-right-color: var(--fill-color);\n",
              "    }\n",
              "    40% {\n",
              "      border-color: transparent;\n",
              "      border-right-color: var(--fill-color);\n",
              "      border-top-color: var(--fill-color);\n",
              "    }\n",
              "    60% {\n",
              "      border-color: transparent;\n",
              "      border-right-color: var(--fill-color);\n",
              "    }\n",
              "    80% {\n",
              "      border-color: transparent;\n",
              "      border-right-color: var(--fill-color);\n",
              "      border-bottom-color: var(--fill-color);\n",
              "    }\n",
              "    90% {\n",
              "      border-color: transparent;\n",
              "      border-bottom-color: var(--fill-color);\n",
              "    }\n",
              "  }\n",
              "</style>\n",
              "\n",
              "  <script>\n",
              "    async function quickchart(key) {\n",
              "      const quickchartButtonEl =\n",
              "        document.querySelector('#' + key + ' button');\n",
              "      quickchartButtonEl.disabled = true;  // To prevent multiple clicks.\n",
              "      quickchartButtonEl.classList.add('colab-df-spinner');\n",
              "      try {\n",
              "        const charts = await google.colab.kernel.invokeFunction(\n",
              "            'suggestCharts', [key], {});\n",
              "      } catch (error) {\n",
              "        console.error('Error during call to suggestCharts:', error);\n",
              "      }\n",
              "      quickchartButtonEl.classList.remove('colab-df-spinner');\n",
              "      quickchartButtonEl.classList.add('colab-df-quickchart-complete');\n",
              "    }\n",
              "    (() => {\n",
              "      let quickchartButtonEl =\n",
              "        document.querySelector('#df-548b22c2-d95e-4282-ace8-31c801b8c92b button');\n",
              "      quickchartButtonEl.style.display =\n",
              "        google.colab.kernel.accessAllowed ? 'block' : 'none';\n",
              "    })();\n",
              "  </script>\n",
              "</div>\n",
              "    </div>\n",
              "  </div>\n"
            ]
          },
          "metadata": {},
          "execution_count": 195
        }
      ],
      "source": [
        "# find median, variance of the data and put it out in nice looking format\n",
        "median = np.round(np.median(samples, axis=0), decimals=1)\n",
        "variance = np.round(np.var(samples, axis=0), decimals=1)\n",
        "basic_stats = np.vstack((median, variance))\n",
        "basic_stats_label = ['median','variance']\n",
        "\n",
        "import pandas as pd\n",
        "# Display final results with a pandas DataFrame\n",
        "df = pd.DataFrame(basic_stats, columns= feature_names)\n",
        "df.insert(0, ' ', basic_stats_label)\n",
        "df\n"
      ]
    },
    {
      "cell_type": "code",
      "execution_count": null,
      "metadata": {
        "id": "lsnAd4p0Q_va"
      },
      "outputs": [],
      "source": []
    },
    {
      "cell_type": "markdown",
      "metadata": {
        "id": "VS5mKl2lfGLb"
      },
      "source": [
        "## <font color='#008DFF'>  **Question 2**\n",
        "\n",
        "Use function <code>stats.describe</code> to retrieve the max, min, and average of samples; then display it as in the expected output <br><br>\n",
        "\n",
        "<b>Expected Output:</b> Something that looks like the following or better: <br>\n",
        "<code>\t['mean radius' 'mean texture' 'mean perimeter' 'mean area' 'mean smoothness' 'mean compactness' 'mean concavity' 'mean concave points' 'mean symmetry' 'mean fractal dimension' 'radius error' 'texture error' 'perimeter error'\n",
        " 'area error' 'smoothness error' 'compactness error' 'concavity error' 'concave points error' 'symmetry error' 'fractal dimension error' 'worst radius' 'worst texture' 'worst perimeter' 'worst area' 'worst smoothness'\n",
        " 'worst compactness' 'worst concavity' 'worst concave points' 'worst symmetry' 'worst fractal dimension'],\n",
        "min [  6.98   9.71  43.79 143.5    0.05   0.02   0.     0.     0.11   0.05   0.11   0.36   0.76   6.8    0.     0.     0.     0.     0.01   0.     7.93  12.02  50.41 185.2    0.07   0.03   0.     0.     0.16   0.06],\n",
        "max [  28.11   39.28  188.5  2501.      0.16    0.35    0.43    0.2     0.3     0.1     2.87    4.88   21.98  542.2     0.03    0.14    0.4     0.05    0.08    0.03   36.04   49.54  251.2  4254.      0.22    1.06    1.25    0.29 0.66    0.21],\n",
        "mean [ 14.13  19.29  91.97 654.89   0.1    0.1    0.09   0.05   0.18   0.06   0.41   1.22   2.87  40.34   0.01   0.03   0.03   0.01   0.02   0.    16.27  25.68 107.26 880.58   0.13   0.25   0.27   0.11   0.29   0.08]\n",
        "</code>\n",
        "\n",
        "<b>Answer</b>:"
      ]
    },
    {
      "cell_type": "code",
      "execution_count": null,
      "metadata": {
        "id": "OkNtSOsIfGLb",
        "colab": {
          "base_uri": "https://localhost:8080/",
          "height": 228
        },
        "outputId": "febdf8ca-bfaa-4a31-951d-569a3e8e55ed"
      },
      "outputs": [
        {
          "output_type": "execute_result",
          "data": {
            "text/plain": [
              "         mean radius  mean texture  mean perimeter  mean area  \\\n",
              "0   Max        28.11         39.28          188.50    2501.00   \n",
              "1   Min         6.98          9.71           43.79     143.50   \n",
              "2  Mean        14.13         19.29           91.97     654.89   \n",
              "\n",
              "   mean smoothness  mean compactness  mean concavity  mean concave points  \\\n",
              "0             0.16              0.35            0.43                 0.20   \n",
              "1             0.05              0.02            0.00                 0.00   \n",
              "2             0.10              0.10            0.09                 0.05   \n",
              "\n",
              "   mean symmetry  ...  worst radius  worst texture  worst perimeter  \\\n",
              "0           0.30  ...         36.04          49.54           251.20   \n",
              "1           0.11  ...          7.93          12.02            50.41   \n",
              "2           0.18  ...         16.27          25.68           107.26   \n",
              "\n",
              "   worst area  worst smoothness  worst compactness  worst concavity  \\\n",
              "0     4254.00              0.22               1.06             1.25   \n",
              "1      185.20              0.07               0.03             0.00   \n",
              "2      880.58              0.13               0.25             0.27   \n",
              "\n",
              "   worst concave points  worst symmetry  worst fractal dimension  \n",
              "0                  0.29            0.66                     0.21  \n",
              "1                  0.00            0.16                     0.06  \n",
              "2                  0.11            0.29                     0.08  \n",
              "\n",
              "[3 rows x 31 columns]"
            ],
            "text/html": [
              "\n",
              "  <div id=\"df-f00b1d05-7efc-46f2-9731-b57be99b2f5b\" class=\"colab-df-container\">\n",
              "    <div>\n",
              "<style scoped>\n",
              "    .dataframe tbody tr th:only-of-type {\n",
              "        vertical-align: middle;\n",
              "    }\n",
              "\n",
              "    .dataframe tbody tr th {\n",
              "        vertical-align: top;\n",
              "    }\n",
              "\n",
              "    .dataframe thead th {\n",
              "        text-align: right;\n",
              "    }\n",
              "</style>\n",
              "<table border=\"1\" class=\"dataframe\">\n",
              "  <thead>\n",
              "    <tr style=\"text-align: right;\">\n",
              "      <th></th>\n",
              "      <th></th>\n",
              "      <th>mean radius</th>\n",
              "      <th>mean texture</th>\n",
              "      <th>mean perimeter</th>\n",
              "      <th>mean area</th>\n",
              "      <th>mean smoothness</th>\n",
              "      <th>mean compactness</th>\n",
              "      <th>mean concavity</th>\n",
              "      <th>mean concave points</th>\n",
              "      <th>mean symmetry</th>\n",
              "      <th>...</th>\n",
              "      <th>worst radius</th>\n",
              "      <th>worst texture</th>\n",
              "      <th>worst perimeter</th>\n",
              "      <th>worst area</th>\n",
              "      <th>worst smoothness</th>\n",
              "      <th>worst compactness</th>\n",
              "      <th>worst concavity</th>\n",
              "      <th>worst concave points</th>\n",
              "      <th>worst symmetry</th>\n",
              "      <th>worst fractal dimension</th>\n",
              "    </tr>\n",
              "  </thead>\n",
              "  <tbody>\n",
              "    <tr>\n",
              "      <th>0</th>\n",
              "      <td>Max</td>\n",
              "      <td>28.11</td>\n",
              "      <td>39.28</td>\n",
              "      <td>188.50</td>\n",
              "      <td>2501.00</td>\n",
              "      <td>0.16</td>\n",
              "      <td>0.35</td>\n",
              "      <td>0.43</td>\n",
              "      <td>0.20</td>\n",
              "      <td>0.30</td>\n",
              "      <td>...</td>\n",
              "      <td>36.04</td>\n",
              "      <td>49.54</td>\n",
              "      <td>251.20</td>\n",
              "      <td>4254.00</td>\n",
              "      <td>0.22</td>\n",
              "      <td>1.06</td>\n",
              "      <td>1.25</td>\n",
              "      <td>0.29</td>\n",
              "      <td>0.66</td>\n",
              "      <td>0.21</td>\n",
              "    </tr>\n",
              "    <tr>\n",
              "      <th>1</th>\n",
              "      <td>Min</td>\n",
              "      <td>6.98</td>\n",
              "      <td>9.71</td>\n",
              "      <td>43.79</td>\n",
              "      <td>143.50</td>\n",
              "      <td>0.05</td>\n",
              "      <td>0.02</td>\n",
              "      <td>0.00</td>\n",
              "      <td>0.00</td>\n",
              "      <td>0.11</td>\n",
              "      <td>...</td>\n",
              "      <td>7.93</td>\n",
              "      <td>12.02</td>\n",
              "      <td>50.41</td>\n",
              "      <td>185.20</td>\n",
              "      <td>0.07</td>\n",
              "      <td>0.03</td>\n",
              "      <td>0.00</td>\n",
              "      <td>0.00</td>\n",
              "      <td>0.16</td>\n",
              "      <td>0.06</td>\n",
              "    </tr>\n",
              "    <tr>\n",
              "      <th>2</th>\n",
              "      <td>Mean</td>\n",
              "      <td>14.13</td>\n",
              "      <td>19.29</td>\n",
              "      <td>91.97</td>\n",
              "      <td>654.89</td>\n",
              "      <td>0.10</td>\n",
              "      <td>0.10</td>\n",
              "      <td>0.09</td>\n",
              "      <td>0.05</td>\n",
              "      <td>0.18</td>\n",
              "      <td>...</td>\n",
              "      <td>16.27</td>\n",
              "      <td>25.68</td>\n",
              "      <td>107.26</td>\n",
              "      <td>880.58</td>\n",
              "      <td>0.13</td>\n",
              "      <td>0.25</td>\n",
              "      <td>0.27</td>\n",
              "      <td>0.11</td>\n",
              "      <td>0.29</td>\n",
              "      <td>0.08</td>\n",
              "    </tr>\n",
              "  </tbody>\n",
              "</table>\n",
              "<p>3 rows × 31 columns</p>\n",
              "</div>\n",
              "    <div class=\"colab-df-buttons\">\n",
              "\n",
              "  <div class=\"colab-df-container\">\n",
              "    <button class=\"colab-df-convert\" onclick=\"convertToInteractive('df-f00b1d05-7efc-46f2-9731-b57be99b2f5b')\"\n",
              "            title=\"Convert this dataframe to an interactive table.\"\n",
              "            style=\"display:none;\">\n",
              "\n",
              "  <svg xmlns=\"http://www.w3.org/2000/svg\" height=\"24px\" viewBox=\"0 -960 960 960\">\n",
              "    <path d=\"M120-120v-720h720v720H120Zm60-500h600v-160H180v160Zm220 220h160v-160H400v160Zm0 220h160v-160H400v160ZM180-400h160v-160H180v160Zm440 0h160v-160H620v160ZM180-180h160v-160H180v160Zm440 0h160v-160H620v160Z\"/>\n",
              "  </svg>\n",
              "    </button>\n",
              "\n",
              "  <style>\n",
              "    .colab-df-container {\n",
              "      display:flex;\n",
              "      gap: 12px;\n",
              "    }\n",
              "\n",
              "    .colab-df-convert {\n",
              "      background-color: #E8F0FE;\n",
              "      border: none;\n",
              "      border-radius: 50%;\n",
              "      cursor: pointer;\n",
              "      display: none;\n",
              "      fill: #1967D2;\n",
              "      height: 32px;\n",
              "      padding: 0 0 0 0;\n",
              "      width: 32px;\n",
              "    }\n",
              "\n",
              "    .colab-df-convert:hover {\n",
              "      background-color: #E2EBFA;\n",
              "      box-shadow: 0px 1px 2px rgba(60, 64, 67, 0.3), 0px 1px 3px 1px rgba(60, 64, 67, 0.15);\n",
              "      fill: #174EA6;\n",
              "    }\n",
              "\n",
              "    .colab-df-buttons div {\n",
              "      margin-bottom: 4px;\n",
              "    }\n",
              "\n",
              "    [theme=dark] .colab-df-convert {\n",
              "      background-color: #3B4455;\n",
              "      fill: #D2E3FC;\n",
              "    }\n",
              "\n",
              "    [theme=dark] .colab-df-convert:hover {\n",
              "      background-color: #434B5C;\n",
              "      box-shadow: 0px 1px 3px 1px rgba(0, 0, 0, 0.15);\n",
              "      filter: drop-shadow(0px 1px 2px rgba(0, 0, 0, 0.3));\n",
              "      fill: #FFFFFF;\n",
              "    }\n",
              "  </style>\n",
              "\n",
              "    <script>\n",
              "      const buttonEl =\n",
              "        document.querySelector('#df-f00b1d05-7efc-46f2-9731-b57be99b2f5b button.colab-df-convert');\n",
              "      buttonEl.style.display =\n",
              "        google.colab.kernel.accessAllowed ? 'block' : 'none';\n",
              "\n",
              "      async function convertToInteractive(key) {\n",
              "        const element = document.querySelector('#df-f00b1d05-7efc-46f2-9731-b57be99b2f5b');\n",
              "        const dataTable =\n",
              "          await google.colab.kernel.invokeFunction('convertToInteractive',\n",
              "                                                    [key], {});\n",
              "        if (!dataTable) return;\n",
              "\n",
              "        const docLinkHtml = 'Like what you see? Visit the ' +\n",
              "          '<a target=\"_blank\" href=https://colab.research.google.com/notebooks/data_table.ipynb>data table notebook</a>'\n",
              "          + ' to learn more about interactive tables.';\n",
              "        element.innerHTML = '';\n",
              "        dataTable['output_type'] = 'display_data';\n",
              "        await google.colab.output.renderOutput(dataTable, element);\n",
              "        const docLink = document.createElement('div');\n",
              "        docLink.innerHTML = docLinkHtml;\n",
              "        element.appendChild(docLink);\n",
              "      }\n",
              "    </script>\n",
              "  </div>\n",
              "\n",
              "\n",
              "<div id=\"df-60268bd6-549c-47c2-abb8-3bc574d84988\">\n",
              "  <button class=\"colab-df-quickchart\" onclick=\"quickchart('df-60268bd6-549c-47c2-abb8-3bc574d84988')\"\n",
              "            title=\"Suggest charts.\"\n",
              "            style=\"display:none;\">\n",
              "\n",
              "<svg xmlns=\"http://www.w3.org/2000/svg\" height=\"24px\"viewBox=\"0 0 24 24\"\n",
              "     width=\"24px\">\n",
              "    <g>\n",
              "        <path d=\"M19 3H5c-1.1 0-2 .9-2 2v14c0 1.1.9 2 2 2h14c1.1 0 2-.9 2-2V5c0-1.1-.9-2-2-2zM9 17H7v-7h2v7zm4 0h-2V7h2v10zm4 0h-2v-4h2v4z\"/>\n",
              "    </g>\n",
              "</svg>\n",
              "  </button>\n",
              "\n",
              "<style>\n",
              "  .colab-df-quickchart {\n",
              "      --bg-color: #E8F0FE;\n",
              "      --fill-color: #1967D2;\n",
              "      --hover-bg-color: #E2EBFA;\n",
              "      --hover-fill-color: #174EA6;\n",
              "      --disabled-fill-color: #AAA;\n",
              "      --disabled-bg-color: #DDD;\n",
              "  }\n",
              "\n",
              "  [theme=dark] .colab-df-quickchart {\n",
              "      --bg-color: #3B4455;\n",
              "      --fill-color: #D2E3FC;\n",
              "      --hover-bg-color: #434B5C;\n",
              "      --hover-fill-color: #FFFFFF;\n",
              "      --disabled-bg-color: #3B4455;\n",
              "      --disabled-fill-color: #666;\n",
              "  }\n",
              "\n",
              "  .colab-df-quickchart {\n",
              "    background-color: var(--bg-color);\n",
              "    border: none;\n",
              "    border-radius: 50%;\n",
              "    cursor: pointer;\n",
              "    display: none;\n",
              "    fill: var(--fill-color);\n",
              "    height: 32px;\n",
              "    padding: 0;\n",
              "    width: 32px;\n",
              "  }\n",
              "\n",
              "  .colab-df-quickchart:hover {\n",
              "    background-color: var(--hover-bg-color);\n",
              "    box-shadow: 0 1px 2px rgba(60, 64, 67, 0.3), 0 1px 3px 1px rgba(60, 64, 67, 0.15);\n",
              "    fill: var(--button-hover-fill-color);\n",
              "  }\n",
              "\n",
              "  .colab-df-quickchart-complete:disabled,\n",
              "  .colab-df-quickchart-complete:disabled:hover {\n",
              "    background-color: var(--disabled-bg-color);\n",
              "    fill: var(--disabled-fill-color);\n",
              "    box-shadow: none;\n",
              "  }\n",
              "\n",
              "  .colab-df-spinner {\n",
              "    border: 2px solid var(--fill-color);\n",
              "    border-color: transparent;\n",
              "    border-bottom-color: var(--fill-color);\n",
              "    animation:\n",
              "      spin 1s steps(1) infinite;\n",
              "  }\n",
              "\n",
              "  @keyframes spin {\n",
              "    0% {\n",
              "      border-color: transparent;\n",
              "      border-bottom-color: var(--fill-color);\n",
              "      border-left-color: var(--fill-color);\n",
              "    }\n",
              "    20% {\n",
              "      border-color: transparent;\n",
              "      border-left-color: var(--fill-color);\n",
              "      border-top-color: var(--fill-color);\n",
              "    }\n",
              "    30% {\n",
              "      border-color: transparent;\n",
              "      border-left-color: var(--fill-color);\n",
              "      border-top-color: var(--fill-color);\n",
              "      border-right-color: var(--fill-color);\n",
              "    }\n",
              "    40% {\n",
              "      border-color: transparent;\n",
              "      border-right-color: var(--fill-color);\n",
              "      border-top-color: var(--fill-color);\n",
              "    }\n",
              "    60% {\n",
              "      border-color: transparent;\n",
              "      border-right-color: var(--fill-color);\n",
              "    }\n",
              "    80% {\n",
              "      border-color: transparent;\n",
              "      border-right-color: var(--fill-color);\n",
              "      border-bottom-color: var(--fill-color);\n",
              "    }\n",
              "    90% {\n",
              "      border-color: transparent;\n",
              "      border-bottom-color: var(--fill-color);\n",
              "    }\n",
              "  }\n",
              "</style>\n",
              "\n",
              "  <script>\n",
              "    async function quickchart(key) {\n",
              "      const quickchartButtonEl =\n",
              "        document.querySelector('#' + key + ' button');\n",
              "      quickchartButtonEl.disabled = true;  // To prevent multiple clicks.\n",
              "      quickchartButtonEl.classList.add('colab-df-spinner');\n",
              "      try {\n",
              "        const charts = await google.colab.kernel.invokeFunction(\n",
              "            'suggestCharts', [key], {});\n",
              "      } catch (error) {\n",
              "        console.error('Error during call to suggestCharts:', error);\n",
              "      }\n",
              "      quickchartButtonEl.classList.remove('colab-df-spinner');\n",
              "      quickchartButtonEl.classList.add('colab-df-quickchart-complete');\n",
              "    }\n",
              "    (() => {\n",
              "      let quickchartButtonEl =\n",
              "        document.querySelector('#df-60268bd6-549c-47c2-abb8-3bc574d84988 button');\n",
              "      quickchartButtonEl.style.display =\n",
              "        google.colab.kernel.accessAllowed ? 'block' : 'none';\n",
              "    })();\n",
              "  </script>\n",
              "</div>\n",
              "    </div>\n",
              "  </div>\n"
            ]
          },
          "metadata": {},
          "execution_count": 196
        }
      ],
      "source": [
        "#Import Library\n",
        "from sklearn.datasets import load_breast_cancer\n",
        "from scipy import stats\n",
        "import pandas as pd\n",
        "\n",
        "#import dataset\n",
        "ds = load_breast_cancer()\n",
        "\n",
        "#Call Describe function\n",
        "n, min_max, mean, var, skew, kurt = stats.describe(ds.data)\n",
        "basic_stats = np.round(np.vstack((min_max[-1],min_max[0],mean)),2)\n",
        "basic_stats_label = ['Max','Min','Mean']\n",
        "\n",
        "# Display final results with a pandas DataFrame\n",
        "df = pd.DataFrame(basic_stats, columns= feature_names)\n",
        "df.insert(0, ' ', basic_stats_label)\n",
        "df\n",
        "\n",
        "\n",
        "\n",
        "\n",
        "\n",
        "\n"
      ]
    },
    {
      "cell_type": "code",
      "execution_count": null,
      "metadata": {
        "id": "zPnHTf9MfT5X"
      },
      "outputs": [],
      "source": [
        "# Grader's area\n",
        "\n",
        "maxScore = maxScore + 4\n",
        "# M[2,1] ="
      ]
    },
    {
      "cell_type": "markdown",
      "metadata": {
        "id": "l3KaR1wZyRgK"
      },
      "source": [
        "-----------------\n",
        "-----------------\n",
        "-----------------\n",
        "-----------------"
      ]
    },
    {
      "cell_type": "code",
      "execution_count": null,
      "metadata": {
        "colab": {
          "base_uri": "https://localhost:8080/",
          "height": 408
        },
        "id": "FzOg-yJwfGLe",
        "outputId": "ba726194-a3ca-4562-ea0f-73ea60eb107d"
      },
      "outputs": [
        {
          "output_type": "display_data",
          "data": {
            "text/plain": [
              "<Figure size 500x400 with 1 Axes>"
            ],
            "image/png": "[encoded data removed]"
          },
          "metadata": {}
        },
        {
          "output_type": "stream",
          "name": "stdout",
          "text": [
            "Bin sizes: [ 7.  9. 30. 47. 62. 68. 79. 63. 62. 44. 30. 26. 14. 13.  7.  4.  1.  2.  0.  0.  0.  1.]\n"
          ]
        }
      ],
      "source": [
        "import matplotlib.pyplot as plt\n",
        "\n",
        "# let plot out to see what is the distribution of feature ('mean texture') values based on the breast cancer data\n",
        "plt.figure(figsize=[5,4], dpi = 100)\n",
        "fea_id = 1 #  the index of feature\n",
        "n, bins, patches = plt.hist(samples[:,fea_id],bins='auto')\n",
        "plt.title('Distribution of %s'%(feature_names[fea_id]))\n",
        "plt.show()\n",
        "print('Bin sizes: {}'.format(n))"
      ]
    },
    {
      "cell_type": "markdown",
      "metadata": {
        "id": "53VG7TETfGLg"
      },
      "source": [
        "\n",
        "## <font color='#008DFF'> <b>Question 3</b>\n",
        "\n",
        "Plot out a histgram of feature ('mean symmetry') over all instances in the breast cancer dataset, give the plot a title and also print out the bin sizes <br><br>\n",
        "<b>Answer</b>"
      ]
    },
    {
      "cell_type": "code",
      "execution_count": null,
      "metadata": {
        "id": "MALZsy3AfGLg",
        "colab": {
          "base_uri": "https://localhost:8080/",
          "height": 562
        },
        "outputId": "d7b79b6e-dfa6-407a-902d-d5953bae29d3"
      },
      "outputs": [
        {
          "output_type": "display_data",
          "data": {
            "text/plain": [
              "<Figure size 1000x600 with 1 Axes>"
            ],
            "image/png": "[encoded data removed]"
          },
          "metadata": {}
        },
        {
          "output_type": "stream",
          "name": "stdout",
          "text": [
            "Bin sizes: [ 1.  3.  2. 13. 21. 38. 56. 66. 67. 70. 67. 53. 30. 33. 13.  8. 12.  2.  6.  3.  2.  1.  0.  1.  1.]\n"
          ]
        }
      ],
      "source": [
        "# import Library\n",
        "from sklearn.datasets import load_breast_cancer\n",
        "import matplotlib.pyplot as plt\n",
        "\n",
        "#Import Dataset\n",
        "ds = load_breast_cancer()\n",
        "samples, feature_names = ds.data, ds.feature_names\n",
        "\n",
        "# Plot out a histogram of features ('mean symmetry') over all instances in the breast cancer dataset\n",
        "plt.figure(figsize=[10,6], dpi = 100)\n",
        "\n",
        "# the index of feature\n",
        "feature_id = 8\n",
        "n, bins, patches = plt.hist(samples[:,feature_id],bins='auto')\n",
        "\n",
        "#Set the title of the histogram\n",
        "plt.title('Distribution of %s in Breast Cancer Dataset '%(feature_names[feature_id]))\n",
        "\n",
        "# Display the histogram.\n",
        "plt.show()\n",
        "\n",
        "#Display the bin sizes\n",
        "print('Bin sizes: {}'.format(n))\n",
        "\n",
        "\n",
        "\n"
      ]
    },
    {
      "cell_type": "code",
      "execution_count": null,
      "metadata": {
        "id": "j1X_Blj6trGl"
      },
      "outputs": [],
      "source": [
        "# Grader's area\n",
        "\n",
        "maxScore = maxScore+4\n",
        "# M[3,1] ="
      ]
    },
    {
      "cell_type": "markdown",
      "metadata": {
        "id": "cDbu6VbOxzNJ"
      },
      "source": [
        "------------------\n",
        "------------------\n",
        "------------------\n",
        "------------------\n",
        "\n",
        "\n",
        "\n",
        "\n"
      ]
    },
    {
      "cell_type": "code",
      "execution_count": null,
      "metadata": {
        "colab": {
          "base_uri": "https://localhost:8080/"
        },
        "id": "yTYkJsHgfGLk",
        "outputId": "6b064051-e36e-41a0-8f52-57adbe106eca"
      },
      "outputs": [
        {
          "output_type": "stream",
          "name": "stdout",
          "text": [
            "There are 4 subjects with area error larger than 200!\n",
            "\n"
          ]
        },
        {
          "output_type": "execute_result",
          "data": {
            "text/plain": [
              "array([[  24.25    ,   20.2     ,  166.2     , 1761.      ,    0.1447  ,    0.2867  ,    0.4268  ,    0.2012  ,\n",
              "           0.2655  ,    0.06877 ,    1.509   ,    3.12    ,    9.807   ,  233.      ,    0.02333 ,    0.09806 ,\n",
              "           0.1278  ,    0.01822 ,    0.04547 ,    0.009875,   26.02    ,   23.99    ,  180.9     , 2073.      ,\n",
              "           0.1696  ,    0.4244  ,    0.5803  ,    0.2248  ,    0.3222  ,    0.08009 ],\n",
              "       [  28.11    ,   18.47    ,  188.5     , 2499.      ,    0.1142  ,    0.1516  ,    0.3201  ,    0.1595  ,\n",
              "           0.1648  ,    0.05525 ,    2.873   ,    1.476   ,   21.98    ,  525.6     ,    0.01345 ,    0.02772 ,\n",
              "           0.06389 ,    0.01407 ,    0.04783 ,    0.004476,   28.11    ,   18.47    ,  188.5     , 2499.      ,\n",
              "           0.1142  ,    0.1516  ,    0.3201  ,    0.1595  ,    0.1648  ,    0.05525 ],\n",
              "       [  21.71    ,   17.25    ,  140.9     , 1546.      ,    0.09384 ,    0.08562 ,    0.1168  ,    0.08465 ,\n",
              "           0.1717  ,    0.05054 ,    1.207   ,    1.051   ,    7.733   ,  224.1     ,    0.005568,    0.01112 ,\n",
              "           0.02096 ,    0.01197 ,    0.01263 ,    0.001803,   30.75    ,   26.44    ,  199.5     , 3143.      ,\n",
              "           0.1363  ,    0.1628  ,    0.2861  ,    0.182   ,    0.251   ,    0.06494 ],\n",
              "       [  27.42    ,   26.27    ,  186.9     , 2501.      ,    0.1084  ,    0.1988  ,    0.3635  ,    0.1689  ,\n",
              "           0.2061  ,    0.05623 ,    2.547   ,    1.306   ,   18.65    ,  542.2     ,    0.00765 ,    0.05374 ,\n",
              "           0.08055 ,    0.02598 ,    0.01697 ,    0.004558,   36.04    ,   31.37    ,  251.2     , 4254.      ,\n",
              "           0.1357  ,    0.4256  ,    0.6833  ,    0.2625  ,    0.2641  ,    0.07427 ]])"
            ]
          },
          "metadata": {},
          "execution_count": 201
        }
      ],
      "source": [
        "def instances_with_defined_area_err(dataset, area_error):\n",
        "    '''This function will return indices of all house with proportion of owner-occupied units built prior to 1940 greater than age%'''\n",
        "    sub_IDs = []\n",
        "    for id, record in enumerate(dataset):\n",
        "        if record[13] > area_error:\n",
        "            sub_IDs.append(id)\n",
        "    print('There are %d subjects with area error larger than %d!\\n'%(len(sub_IDs), area_error))\n",
        "\n",
        "    return sub_IDs\n",
        "\n",
        "# list out all instances' attributes with area error > 200\n",
        "samples[instances_with_defined_area_err(samples, 200)]"
      ]
    },
    {
      "cell_type": "markdown",
      "metadata": {
        "id": "N3zhYgVKfGLm"
      },
      "source": [
        "\n",
        "## <font color='#008DFF'> **Question 4**\n",
        "\n",
        "Write a function that takes as input the given dataset, and two numbers $a$ and $b$, and returns the ids of instance that <b>perimeter error</b> is either less than $a$ or more than $b$. Demonstrate how the function runs with two specific inputs $a$ and $b$ of your choice. <br><br>\n",
        "<b>Answer</b>\n",
        "\n"
      ]
    },
    {
      "cell_type": "code",
      "execution_count": null,
      "metadata": {
        "id": "6_0OKNXtfGLn",
        "colab": {
          "base_uri": "https://localhost:8080/"
        },
        "outputId": "1ea104e1-8fff-4ba2-a15c-2447b843cd53"
      },
      "outputs": [
        {
          "output_type": "stream",
          "name": "stdout",
          "text": [
            "There are 569 subjects with perimeter error less than 1 or greater than 1!\n",
            "\n",
            "[0, 1, 2, 3, 4, 5, 6, 7, 8, 9, 10, 11, 12, 13, 14, 15, 16, 17, 18, 19, 20, 21, 22, 23, 24, 25, 26, 27, 28, 29, 30, 31, 32, 33, 34, 35, 36, 37, 38, 39, 40, 41, 42, 43, 44, 45, 46, 47, 48, 49, 50, 51, 52, 53, 54, 55, 56, 57, 58, 59, 60, 61, 62, 63, 64, 65, 66, 67, 68, 69, 70, 71, 72, 73, 74, 75, 76, 77, 78, 79, 80, 81, 82, 83, 84, 85, 86, 87, 88, 89, 90, 91, 92, 93, 94, 95, 96, 97, 98, 99, 100, 101, 102, 103, 104, 105, 106, 107, 108, 109, 110, 111, 112, 113, 114, 115, 116, 117, 118, 119, 120, 121, 122, 123, 124, 125, 126, 127, 128, 129, 130, 131, 132, 133, 134, 135, 136, 137, 138, 139, 140, 141, 142, 143, 144, 145, 146, 147, 148, 149, 150, 151, 152, 153, 154, 155, 156, 157, 158, 159, 160, 161, 162, 163, 164, 165, 166, 167, 168, 169, 170, 171, 172, 173, 174, 175, 176, 177, 178, 179, 180, 181, 182, 183, 184, 185, 186, 187, 188, 189, 190, 191, 192, 193, 194, 195, 196, 197, 198, 199, 200, 201, 202, 203, 204, 205, 206, 207, 208, 209, 210, 211, 212, 213, 214, 215, 216, 217, 218, 219, 220, 221, 222, 223, 224, 225, 226, 227, 228, 229, 230, 231, 232, 233, 234, 235, 236, 237, 238, 239, 240, 241, 242, 243, 244, 245, 246, 247, 248, 249, 250, 251, 252, 253, 254, 255, 256, 257, 258, 259, 260, 261, 262, 263, 264, 265, 266, 267, 268, 269, 270, 271, 272, 273, 274, 275, 276, 277, 278, 279, 280, 281, 282, 283, 284, 285, 286, 287, 288, 289, 290, 291, 292, 293, 294, 295, 296, 297, 298, 299, 300, 301, 302, 303, 304, 305, 306, 307, 308, 309, 310, 311, 312, 313, 314, 315, 316, 317, 318, 319, 320, 321, 322, 323, 324, 325, 326, 327, 328, 329, 330, 331, 332, 333, 334, 335, 336, 337, 338, 339, 340, 341, 342, 343, 344, 345, 346, 347, 348, 349, 350, 351, 352, 353, 354, 355, 356, 357, 358, 359, 360, 361, 362, 363, 364, 365, 366, 367, 368, 369, 370, 371, 372, 373, 374, 375, 376, 377, 378, 379, 380, 381, 382, 383, 384, 385, 386, 387, 388, 389, 390, 391, 392, 393, 394, 395, 396, 397, 398, 399, 400, 401, 402, 403, 404, 405, 406, 407, 408, 409, 410, 411, 412, 413, 414, 415, 416, 417, 418, 419, 420, 421, 422, 423, 424, 425, 426, 427, 428, 429, 430, 431, 432, 433, 434, 435, 436, 437, 438, 439, 440, 441, 442, 443, 444, 445, 446, 447, 448, 449, 450, 451, 452, 453, 454, 455, 456, 457, 458, 459, 460, 461, 462, 463, 464, 465, 466, 467, 468, 469, 470, 471, 472, 473, 474, 475, 476, 477, 478, 479, 480, 481, 482, 483, 484, 485, 486, 487, 488, 489, 490, 491, 492, 493, 494, 495, 496, 497, 498, 499, 500, 501, 502, 503, 504, 505, 506, 507, 508, 509, 510, 511, 512, 513, 514, 515, 516, 517, 518, 519, 520, 521, 522, 523, 524, 525, 526, 527, 528, 529, 530, 531, 532, 533, 534, 535, 536, 537, 538, 539, 540, 541, 542, 543, 544, 545, 546, 547, 548, 549, 550, 551, 552, 553, 554, 555, 556, 557, 558, 559, 560, 561, 562, 563, 564, 565, 566, 567, 568]\n"
          ]
        }
      ],
      "source": [
        "# Import Library and dataset\n",
        "from sklearn.datasets import load_breast_cancer\n",
        "samples = load_breast_cancer().data\n",
        "\n",
        "# Define function to returns the IDs of instances where the perimeter error is either less than a or more than b.\n",
        "\n",
        "def instances_with_perimeter_error(dataset, a, b):\n",
        "    sub_IDs = []\n",
        "    for id, record in enumerate(dataset):\n",
        "        perimeter_error = record[12]  #  index 12 corresponds to perimeter error in sample dataset\n",
        "        if perimeter_error < a or perimeter_error > b:\n",
        "            sub_IDs.append(id)\n",
        "    print(f'There are {len(sub_IDs)} subjects with perimeter error less than {a} or greater than {b}!\\n')\n",
        "    return sub_IDs\n",
        "\n",
        "# Demonstrate the function with specific inputs a and b\n",
        "a = 1  # Replace with your choice of 'a'\n",
        "b = 1 # Replace with your choice of 'b'\n",
        "\n",
        "# Get the IDs of instances with perimeter error less than 'a' or greater than 'b'\n",
        "ids_of_instance = instances_with_perimeter_error(samples, a, b)\n",
        "\n",
        "# Print the IDs of instances that meet the condition\n",
        "print(ids_of_instance)\n",
        "\n",
        "\n"
      ]
    },
    {
      "cell_type": "code",
      "execution_count": null,
      "metadata": {
        "id": "upNrvOZQAqVf"
      },
      "outputs": [],
      "source": [
        "# Grader's area\n",
        "\n",
        "maxScore = maxScore + 4\n",
        "# M[4,1]="
      ]
    },
    {
      "cell_type": "markdown",
      "metadata": {
        "id": "FwAL2fEc2cRP"
      },
      "source": [
        "------------------------------------------\n",
        "------------------------------------------\n",
        "------------------------------------------\n",
        "------------------------------------------"
      ]
    },
    {
      "cell_type": "markdown",
      "metadata": {
        "id": "0h4pDnxJ-06z"
      },
      "source": [
        "## **Part 3: kNN simple implementation**\n",
        "\n",
        "Here we work with a simple implementation of kNN model for regression problems in order to understand how objects and methods work. <b>Problem: predict the \"mean area\" (a continuous feature value) of the cell nuclei based on the other features in the breast cancer dataset.</b>"
      ]
    },
    {
      "cell_type": "markdown",
      "source": [],
      "metadata": {
        "id": "JO_tyQod8jhp"
      }
    },
    {
      "cell_type": "markdown",
      "metadata": {
        "id": "5ntY4Cih-qYl"
      },
      "source": [
        "## <font color='#008DFF'> **Question 5**\n",
        "\n"
      ]
    },
    {
      "cell_type": "code",
      "execution_count": null,
      "metadata": {
        "id": "41lODEI7Gef7"
      },
      "outputs": [],
      "source": [
        "import numpy as np\n",
        "\n",
        "class KNNRegressor:\n",
        "    def __init__(self, k=3):\n",
        "        self.k = k\n",
        "        self.X_train = None\n",
        "        self.y_train = None\n",
        "\n",
        "    def fit(self, X_train, y_train):\n",
        "        \"\"\"Store the training dataset.\"\"\"\n",
        "        self.X_train = X_train\n",
        "        self.y_train = y_train\n",
        "\n",
        "    def predict(self, X_test):\n",
        "        \"\"\"Predict the target for the test data.\"\"\"\n",
        "        y_pred = [self._predict(x) for x in X_test]\n",
        "        return np.array(y_pred)\n",
        "\n",
        "    def _predict(self, x):\n",
        "        \"\"\"Predict the target for a single instance.\"\"\"\n",
        "        # Calculate distances between x and all examples in the training set\n",
        "        distances = [np.sqrt(np.sum((x - x_train)**2)) for x_train in self.X_train]\n",
        "\n",
        "        # Sort by distance and return indices of the first k neighbors\n",
        "        k_indices = np.argsort(distances)[:self.k]\n",
        "\n",
        "        # Extract the y values of the k nearest neighbor training samples\n",
        "        k_nearest_labels = [self.y_train[i] for i in k_indices]\n",
        "\n",
        "        # Return the mean of the k nearest neighbors\n",
        "        return np.mean(k_nearest_labels)"
      ]
    },
    {
      "cell_type": "markdown",
      "metadata": {
        "id": "6eUGohNI_JPS"
      },
      "source": [
        "### <font color='#008DFF'>  **Question 5(i)**\n",
        "\n",
        "Generate training and test datasets based on the original breast cancer dataset. (Note that the <i>target</i> of KNN regressor is the \"mean area\"; while the <i>input</i> of the regressor is the remaining features in the cancer dataset.)"
      ]
    },
    {
      "cell_type": "code",
      "execution_count": null,
      "metadata": {
        "id": "bp4DLWmz8vXn"
      },
      "outputs": [],
      "source": [
        "#import the library\n",
        "from sklearn.datasets import load_breast_cancer\n",
        "from sklearn.model_selection import train_test_split\n",
        "\n",
        "# Load the Breast Cancer dataset\n",
        "ds = load_breast_cancer()\n",
        "\n",
        "#input features and Target variables\n",
        "X = ds.data\n",
        "y = ds.data[:,3]\n",
        "\n",
        "X = np.delete(X,3, axis=1)\n",
        "\n",
        "\n",
        "# Split the dataset into training and test sets (ratio 70% train, 30% test)\n",
        "# X_train: Training features (excluding \"mean area\")\n",
        "# X_test: Test features (excluding \"mean area\")\n",
        "# y_train: Training target (\"mean area\")\n",
        "# y_test: Test target (\"mean area\")\n",
        "#column one has the Mean Area\n",
        "X_train, X_test, y_train, y_test = train_test_split(X, y, test_size=0.3, random_state=42)\n",
        "\n",
        "\n"
      ]
    },
    {
      "cell_type": "code",
      "execution_count": null,
      "metadata": {
        "id": "46gi3zLbM4Ga"
      },
      "outputs": [],
      "source": [
        "# Grader's area\n",
        "\n",
        "maxScore = maxScore + 5\n",
        "#M[5,1] =\n",
        "\n"
      ]
    },
    {
      "cell_type": "markdown",
      "metadata": {
        "id": "knWS8oKD_9QI"
      },
      "source": []
    },
    {
      "cell_type": "markdown",
      "metadata": {
        "id": "SROYKfcm_9gk"
      },
      "source": [
        "### <font color='#008DFF'>  **Question 5(ii)**\n",
        "\n",
        "Initialize a kNN regressor using the class defined above. Then, train the kNN regressor using the training dataset, and predict the mean area with the test dataset."
      ]
    },
    {
      "cell_type": "code",
      "execution_count": null,
      "metadata": {
        "id": "2Ni9kwJLAQUc"
      },
      "outputs": [],
      "source": [
        "#initialize the regressor\n",
        "model = KNNRegressor(k=3)\n",
        "\n",
        "# Train the regressor\n",
        "model.fit(X_train, y_train)\n",
        "\n",
        "# predict mean area using test data\n",
        "y_pred = model.predict(X_test)\n",
        "\n"
      ]
    },
    {
      "cell_type": "code",
      "execution_count": null,
      "metadata": {
        "id": "701AcFiuAQUc"
      },
      "outputs": [],
      "source": [
        "# Grader's area\n",
        "\n",
        "maxScore = maxScore +5\n",
        "#M[5,2] =\n",
        "\n"
      ]
    },
    {
      "cell_type": "markdown",
      "metadata": {
        "id": "6VchLMyhAaP5"
      },
      "source": [
        "### <font color='#008DFF'>  **Question 5(iii)**\n",
        "\n",
        "Visualize the prediction results with a scatter plot, where <code>x-axis</code> denotes the true 'mean area' values, <code>y_axis</code> is the predicted mean area values for the test dataset. Please add a red \"dashed line\" to represent perfect prediction in the scatter plot."
      ]
    },
    {
      "cell_type": "code",
      "execution_count": 217,
      "metadata": {
        "id": "_2w5NybMB6oT",
        "colab": {
          "base_uri": "https://localhost:8080/",
          "height": 718
        },
        "outputId": "d42bdbee-39b5-443d-efc7-7303b8782ea0"
      },
      "outputs": [
        {
          "output_type": "display_data",
          "data": {
            "text/plain": [
              "<Figure size 1000x800 with 1 Axes>"
            ],
            "image/png": "[encoded data removed]"
          },
          "metadata": {}
        }
      ],
      "source": [
        "## your additional code goes here.\n",
        "## Please make a comment about where it should be added in the original code above\n",
        "# it should be added in the end of code line after the model has been trained\n",
        "\n",
        "import matplotlib.pyplot as plt\n",
        "\n",
        "# Create a scatter plot\n",
        "plt.figure(figsize=(10, 8))\n",
        "plt.scatter(y_test, y_pred, c='blue', marker='*', label='Predicted Values')\n",
        "\n",
        "# red dashed line representing perfect prediction (slope = 1) , maximum point (ytest,ytest) and minimum point (0,0)\n",
        "plt.plot([0,max(y_test)], [0, max(y_test)], 'r--', lw=3, label='Perfect Prediction')\n",
        "\n",
        "# Label the axes and add a legend\n",
        "plt.xlabel(\"True 'mean area' values\")\n",
        "plt.ylabel(\"Predicted 'mean area' values\")\n",
        "plt.legend(loc='lower right')\n",
        "\n",
        "# Add a title\n",
        "plt.title(\"True vs. Predicted 'mean area' Values\")\n",
        "\n",
        "# Show the plot\n",
        "plt.show()\n",
        "\n",
        "\n",
        "\n",
        "\n",
        "\n",
        "\n",
        "\n"
      ]
    },
    {
      "cell_type": "code",
      "execution_count": null,
      "metadata": {
        "id": "HsiMfcevAqlW"
      },
      "outputs": [],
      "source": [
        "# Grader's area\n",
        "\n",
        "maxScore = maxScore +5\n",
        "#M[5,3] =\n",
        "\n"
      ]
    },
    {
      "cell_type": "markdown",
      "metadata": {
        "id": "oRMj1OX-B_fn"
      },
      "source": [
        "----------------------\n",
        "----------------------\n",
        "----------------------"
      ]
    },
    {
      "cell_type": "code",
      "execution_count": null,
      "metadata": {
        "id": "IVkneTzYCAxs"
      },
      "outputs": [],
      "source": [
        "#Grader's area\n",
        "\n",
        "rawScore = np.sum(M)\n",
        "score = rawScore*100/maxScore"
      ]
    },
    {
      "cell_type": "code",
      "execution_count": null,
      "metadata": {
        "id": "fo4TYoEFCSTt"
      },
      "outputs": [],
      "source": []
    }
  ],
  "metadata": {
    "colab": {
      "provenance": []
    },
    "kernelspec": {
      "display_name": "Python 3",
      "language": "python",
      "name": "python3"
    },
    "language_info": {
      "codemirror_mode": {
        "name": "ipython",
        "version": 3
      },
      "file_extension": ".py",
      "mimetype": "text/x-python",
      "name": "python",
      "nbconvert_exporter": "python",
      "pygments_lexer": "ipython3",
      "version": "3.10.4"
    }
  },
  "nbformat": 4,
  "nbformat_minor": 0
}